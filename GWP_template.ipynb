{
 "cells": [
  {
   "cell_type": "markdown",
   "metadata": {
    "colab_type": "text",
    "id": "37puETfgRzzg"
   },
   "source": [
    "# Data Preprocessing Tools"
   ]
  },
  {
   "cell_type": "markdown",
   "metadata": {
    "colab_type": "text",
    "id": "EoRP98MpR-qj"
   },
   "source": [
    "## Importing the libraries"
   ]
  },
  {
   "cell_type": "code",
   "execution_count": 1,
   "metadata": {
    "colab": {},
    "colab_type": "code",
    "id": "N-qiINBQSK2g"
   },
   "outputs": [],
   "source": [
    "import numpy as np\n",
    "import matplotlib.pyplot as plt\n",
    "import pandas as pd"
   ]
  },
  {
   "cell_type": "markdown",
   "metadata": {
    "colab_type": "text",
    "id": "RopL7tUZSQkT"
   },
   "source": [
    "## Importing the dataset"
   ]
  },
  {
   "cell_type": "code",
   "execution_count": 2,
   "metadata": {
    "colab": {},
    "colab_type": "code",
    "id": "WwEPNDWySTKm"
   },
   "outputs": [],
   "source": [
    "dataset = pd.read_csv('Train_data_agm.csv')"
   ]
  },
  {
   "cell_type": "code",
   "execution_count": 3,
   "metadata": {},
   "outputs": [],
   "source": [
    "x = dataset.iloc[:, :20].values\n",
    "y_real = dataset.iloc[:, -2].values\n",
    "y_class = dataset.iloc[:, -1].values"
   ]
  },
  {
   "cell_type": "code",
   "execution_count": 24,
   "metadata": {},
   "outputs": [
    {
     "data": {
      "text/html": [
       "<div>\n",
       "<style scoped>\n",
       "    .dataframe tbody tr th:only-of-type {\n",
       "        vertical-align: middle;\n",
       "    }\n",
       "\n",
       "    .dataframe tbody tr th {\n",
       "        vertical-align: top;\n",
       "    }\n",
       "\n",
       "    .dataframe thead th {\n",
       "        text-align: right;\n",
       "    }\n",
       "</style>\n",
       "<table border=\"1\" class=\"dataframe\">\n",
       "  <thead>\n",
       "    <tr style=\"text-align: right;\">\n",
       "      <th></th>\n",
       "      <th>DFF</th>\n",
       "      <th>DFR</th>\n",
       "      <th>Altitude</th>\n",
       "      <th>Draw_D</th>\n",
       "      <th>Drain_D</th>\n",
       "      <th>LS</th>\n",
       "      <th>Lineam_D</th>\n",
       "      <th>MRVBF</th>\n",
       "      <th>MRRTF</th>\n",
       "      <th>LULC</th>\n",
       "      <th>...</th>\n",
       "      <th>Plan_C</th>\n",
       "      <th>TRI</th>\n",
       "      <th>SPI</th>\n",
       "      <th>Slope</th>\n",
       "      <th>TWI</th>\n",
       "      <th>TPI</th>\n",
       "      <th>litho_recl</th>\n",
       "      <th>geomorph_R</th>\n",
       "      <th>grid_code</th>\n",
       "      <th>well_M</th>\n",
       "    </tr>\n",
       "  </thead>\n",
       "  <tbody>\n",
       "    <tr>\n",
       "      <th>count</th>\n",
       "      <td>4400.000000</td>\n",
       "      <td>4400.000000</td>\n",
       "      <td>4400.000000</td>\n",
       "      <td>4400.000000</td>\n",
       "      <td>4400.000000</td>\n",
       "      <td>4400.000000</td>\n",
       "      <td>4400.000000</td>\n",
       "      <td>4400.000000</td>\n",
       "      <td>4400.000000</td>\n",
       "      <td>4400.000000</td>\n",
       "      <td>...</td>\n",
       "      <td>4400.000000</td>\n",
       "      <td>4400.000000</td>\n",
       "      <td>4400.000000</td>\n",
       "      <td>4400.000000</td>\n",
       "      <td>4400.000000</td>\n",
       "      <td>4400.000000</td>\n",
       "      <td>4400.000000</td>\n",
       "      <td>4400.000000</td>\n",
       "      <td>4400.000000</td>\n",
       "      <td>4400.000000</td>\n",
       "    </tr>\n",
       "    <tr>\n",
       "      <th>mean</th>\n",
       "      <td>15.371678</td>\n",
       "      <td>3.065349</td>\n",
       "      <td>299.495682</td>\n",
       "      <td>3.168101</td>\n",
       "      <td>1.817620</td>\n",
       "      <td>0.540312</td>\n",
       "      <td>0.529664</td>\n",
       "      <td>4.328115</td>\n",
       "      <td>2.870674</td>\n",
       "      <td>2.682955</td>\n",
       "      <td>...</td>\n",
       "      <td>0.005404</td>\n",
       "      <td>1.010695</td>\n",
       "      <td>88.867481</td>\n",
       "      <td>0.040774</td>\n",
       "      <td>7.829934</td>\n",
       "      <td>0.035829</td>\n",
       "      <td>2.029773</td>\n",
       "      <td>3.877727</td>\n",
       "      <td>3.257841</td>\n",
       "      <td>2.210227</td>\n",
       "    </tr>\n",
       "    <tr>\n",
       "      <th>std</th>\n",
       "      <td>11.116370</td>\n",
       "      <td>2.029857</td>\n",
       "      <td>79.810166</td>\n",
       "      <td>1.843567</td>\n",
       "      <td>0.819711</td>\n",
       "      <td>0.535954</td>\n",
       "      <td>0.377463</td>\n",
       "      <td>2.212529</td>\n",
       "      <td>2.120788</td>\n",
       "      <td>0.982308</td>\n",
       "      <td>...</td>\n",
       "      <td>0.044890</td>\n",
       "      <td>0.747442</td>\n",
       "      <td>136.894210</td>\n",
       "      <td>0.035051</td>\n",
       "      <td>1.094868</td>\n",
       "      <td>1.395012</td>\n",
       "      <td>0.554200</td>\n",
       "      <td>0.695227</td>\n",
       "      <td>4.420200</td>\n",
       "      <td>1.156196</td>\n",
       "    </tr>\n",
       "    <tr>\n",
       "      <th>min</th>\n",
       "      <td>0.084850</td>\n",
       "      <td>0.000000</td>\n",
       "      <td>131.000000</td>\n",
       "      <td>0.096070</td>\n",
       "      <td>0.381920</td>\n",
       "      <td>0.030010</td>\n",
       "      <td>0.000000</td>\n",
       "      <td>0.000000</td>\n",
       "      <td>0.000000</td>\n",
       "      <td>1.000000</td>\n",
       "      <td>...</td>\n",
       "      <td>-0.266670</td>\n",
       "      <td>0.000000</td>\n",
       "      <td>0.000000</td>\n",
       "      <td>0.000000</td>\n",
       "      <td>4.917240</td>\n",
       "      <td>-6.297300</td>\n",
       "      <td>1.000000</td>\n",
       "      <td>1.000000</td>\n",
       "      <td>0.020000</td>\n",
       "      <td>1.000000</td>\n",
       "    </tr>\n",
       "    <tr>\n",
       "      <th>25%</th>\n",
       "      <td>5.391325</td>\n",
       "      <td>1.328830</td>\n",
       "      <td>231.000000</td>\n",
       "      <td>2.035155</td>\n",
       "      <td>1.195585</td>\n",
       "      <td>0.234363</td>\n",
       "      <td>0.225397</td>\n",
       "      <td>2.680390</td>\n",
       "      <td>0.515553</td>\n",
       "      <td>2.000000</td>\n",
       "      <td>...</td>\n",
       "      <td>-0.008445</td>\n",
       "      <td>0.632460</td>\n",
       "      <td>23.763597</td>\n",
       "      <td>0.016670</td>\n",
       "      <td>7.201628</td>\n",
       "      <td>-0.864860</td>\n",
       "      <td>2.000000</td>\n",
       "      <td>4.000000</td>\n",
       "      <td>0.740000</td>\n",
       "      <td>1.000000</td>\n",
       "    </tr>\n",
       "    <tr>\n",
       "      <th>50%</th>\n",
       "      <td>14.257625</td>\n",
       "      <td>2.954505</td>\n",
       "      <td>310.000000</td>\n",
       "      <td>2.750850</td>\n",
       "      <td>1.688770</td>\n",
       "      <td>0.452635</td>\n",
       "      <td>0.463935</td>\n",
       "      <td>4.804125</td>\n",
       "      <td>2.960480</td>\n",
       "      <td>2.000000</td>\n",
       "      <td>...</td>\n",
       "      <td>0.000000</td>\n",
       "      <td>0.894430</td>\n",
       "      <td>56.133205</td>\n",
       "      <td>0.037250</td>\n",
       "      <td>7.595675</td>\n",
       "      <td>-0.189190</td>\n",
       "      <td>2.000000</td>\n",
       "      <td>4.000000</td>\n",
       "      <td>1.470000</td>\n",
       "      <td>2.000000</td>\n",
       "    </tr>\n",
       "    <tr>\n",
       "      <th>75%</th>\n",
       "      <td>22.214573</td>\n",
       "      <td>4.566290</td>\n",
       "      <td>370.000000</td>\n",
       "      <td>4.028485</td>\n",
       "      <td>2.229880</td>\n",
       "      <td>0.693763</td>\n",
       "      <td>0.751048</td>\n",
       "      <td>6.266105</td>\n",
       "      <td>4.754570</td>\n",
       "      <td>3.000000</td>\n",
       "      <td>...</td>\n",
       "      <td>0.017890</td>\n",
       "      <td>1.341640</td>\n",
       "      <td>107.539073</td>\n",
       "      <td>0.052660</td>\n",
       "      <td>8.110140</td>\n",
       "      <td>0.810810</td>\n",
       "      <td>2.000000</td>\n",
       "      <td>4.000000</td>\n",
       "      <td>4.437500</td>\n",
       "      <td>3.000000</td>\n",
       "    </tr>\n",
       "    <tr>\n",
       "      <th>max</th>\n",
       "      <td>50.678840</td>\n",
       "      <td>8.212820</td>\n",
       "      <td>517.000000</td>\n",
       "      <td>14.400130</td>\n",
       "      <td>4.706010</td>\n",
       "      <td>7.189150</td>\n",
       "      <td>1.748140</td>\n",
       "      <td>7.778840</td>\n",
       "      <td>6.601090</td>\n",
       "      <td>5.000000</td>\n",
       "      <td>...</td>\n",
       "      <td>0.666670</td>\n",
       "      <td>8.402380</td>\n",
       "      <td>3301.999020</td>\n",
       "      <td>0.412390</td>\n",
       "      <td>11.444970</td>\n",
       "      <td>13.567570</td>\n",
       "      <td>4.000000</td>\n",
       "      <td>5.000000</td>\n",
       "      <td>20.000000</td>\n",
       "      <td>4.000000</td>\n",
       "    </tr>\n",
       "  </tbody>\n",
       "</table>\n",
       "<p>8 rows × 22 columns</p>\n",
       "</div>"
      ],
      "text/plain": [
       "               DFF          DFR     Altitude       Draw_D      Drain_D  \\\n",
       "count  4400.000000  4400.000000  4400.000000  4400.000000  4400.000000   \n",
       "mean     15.371678     3.065349   299.495682     3.168101     1.817620   \n",
       "std      11.116370     2.029857    79.810166     1.843567     0.819711   \n",
       "min       0.084850     0.000000   131.000000     0.096070     0.381920   \n",
       "25%       5.391325     1.328830   231.000000     2.035155     1.195585   \n",
       "50%      14.257625     2.954505   310.000000     2.750850     1.688770   \n",
       "75%      22.214573     4.566290   370.000000     4.028485     2.229880   \n",
       "max      50.678840     8.212820   517.000000    14.400130     4.706010   \n",
       "\n",
       "                LS     Lineam_D        MRVBF        MRRTF         LULC  ...  \\\n",
       "count  4400.000000  4400.000000  4400.000000  4400.000000  4400.000000  ...   \n",
       "mean      0.540312     0.529664     4.328115     2.870674     2.682955  ...   \n",
       "std       0.535954     0.377463     2.212529     2.120788     0.982308  ...   \n",
       "min       0.030010     0.000000     0.000000     0.000000     1.000000  ...   \n",
       "25%       0.234363     0.225397     2.680390     0.515553     2.000000  ...   \n",
       "50%       0.452635     0.463935     4.804125     2.960480     2.000000  ...   \n",
       "75%       0.693763     0.751048     6.266105     4.754570     3.000000  ...   \n",
       "max       7.189150     1.748140     7.778840     6.601090     5.000000  ...   \n",
       "\n",
       "            Plan_C          TRI          SPI        Slope          TWI  \\\n",
       "count  4400.000000  4400.000000  4400.000000  4400.000000  4400.000000   \n",
       "mean      0.005404     1.010695    88.867481     0.040774     7.829934   \n",
       "std       0.044890     0.747442   136.894210     0.035051     1.094868   \n",
       "min      -0.266670     0.000000     0.000000     0.000000     4.917240   \n",
       "25%      -0.008445     0.632460    23.763597     0.016670     7.201628   \n",
       "50%       0.000000     0.894430    56.133205     0.037250     7.595675   \n",
       "75%       0.017890     1.341640   107.539073     0.052660     8.110140   \n",
       "max       0.666670     8.402380  3301.999020     0.412390    11.444970   \n",
       "\n",
       "               TPI   litho_recl   geomorph_R    grid_code       well_M  \n",
       "count  4400.000000  4400.000000  4400.000000  4400.000000  4400.000000  \n",
       "mean      0.035829     2.029773     3.877727     3.257841     2.210227  \n",
       "std       1.395012     0.554200     0.695227     4.420200     1.156196  \n",
       "min      -6.297300     1.000000     1.000000     0.020000     1.000000  \n",
       "25%      -0.864860     2.000000     4.000000     0.740000     1.000000  \n",
       "50%      -0.189190     2.000000     4.000000     1.470000     2.000000  \n",
       "75%       0.810810     2.000000     4.000000     4.437500     3.000000  \n",
       "max      13.567570     4.000000     5.000000    20.000000     4.000000  \n",
       "\n",
       "[8 rows x 22 columns]"
      ]
     },
     "execution_count": 24,
     "metadata": {},
     "output_type": "execute_result"
    }
   ],
   "source": [
    "dataset.describe()"
   ]
  },
  {
   "cell_type": "code",
   "execution_count": 28,
   "metadata": {},
   "outputs": [
    {
     "name": "stdout",
     "output_type": "stream",
     "text": [
      "1    1700\n",
      "2     950\n",
      "3     875\n",
      "4     875\n",
      "Name: well_M, dtype: int64\n"
     ]
    },
    {
     "data": {
      "text/plain": [
       "<matplotlib.axes._subplots.AxesSubplot at 0x28654ad7128>"
      ]
     },
     "execution_count": 28,
     "metadata": {},
     "output_type": "execute_result"
    },
    {
     "data": {
      "image/png": "[encoded data removed]",
      "text/plain": [
       "<Figure size 432x288 with 1 Axes>"
      ]
     },
     "metadata": {
      "needs_background": "light"
     },
     "output_type": "display_data"
    }
   ],
   "source": [
    "print(pd.value_counts(dataset['well_M']))\n",
    "pd.value_counts(dataset['well_M']).plot.bar()"
   ]
  },
  {
   "cell_type": "markdown",
   "metadata": {
    "colab_type": "text",
    "id": "CriG6VzVSjcK"
   },
   "source": [
    "## Encoding categorical data"
   ]
  },
  {
   "cell_type": "markdown",
   "metadata": {
    "colab_type": "text",
    "id": "AhSpdQWeSsFh"
   },
   "source": [
    "### Encoding the Independent Variable"
   ]
  },
  {
   "cell_type": "code",
   "execution_count": 233,
   "metadata": {
    "colab": {},
    "colab_type": "code",
    "id": "5hwuVddlSwVi"
   },
   "outputs": [
    {
     "name": "stderr",
     "output_type": "stream",
     "text": [
      "C:\\Users\\Bihari\\Anaconda3\\lib\\site-packages\\sklearn\\preprocessing\\_encoders.py:371: FutureWarning: The handling of integer data will change in version 0.22. Currently, the categories are determined based on the range [0, max(values)], while in the future they will be determined based on the unique values.\n",
      "If you want the future behaviour and silence this warning, you can specify \"categories='auto'\".\n",
      "In case you used a LabelEncoder before this OneHotEncoder to convert the categories to integers, then you can now use the OneHotEncoder directly.\n",
      "  warnings.warn(msg, FutureWarning)\n"
     ]
    }
   ],
   "source": [
    "from sklearn.compose import ColumnTransformer\n",
    "from sklearn.preprocessing import OneHotEncoder\n",
    "ct = ColumnTransformer(transformers=[('encoder', OneHotEncoder(), [9,18,19])], remainder='passthrough')\n",
    "x_dummy = np.array(ct.fit_transform(x))"
   ]
  },
  {
   "cell_type": "markdown",
   "metadata": {
    "colab_type": "text",
    "id": "DXh8oVSITIc6"
   },
   "source": [
    "### Encoding the Dependent Variable"
   ]
  },
  {
   "cell_type": "code",
   "execution_count": 235,
   "metadata": {
    "colab": {},
    "colab_type": "code",
    "id": "XgHCShVyTOYY"
   },
   "outputs": [],
   "source": [
    "#no need"
   ]
  },
  {
   "cell_type": "markdown",
   "metadata": {
    "colab_type": "text",
    "id": "qb_vcgm3qZKW"
   },
   "source": [
    "## Splitting the dataset into the Training set and Test set"
   ]
  },
  {
   "cell_type": "code",
   "execution_count": 16,
   "metadata": {},
   "outputs": [],
   "source": [
    "from sklearn.model_selection import train_test_split\n",
    "x_train, x_test, y_train, y_test = train_test_split(x, y_class, test_size= 0.3,)"
   ]
  },
  {
   "cell_type": "markdown",
   "metadata": {
    "colab_type": "text",
    "id": "TpGqbS4TqkIR"
   },
   "source": [
    " # Feature Scaling\n"
   ]
  },
  {
   "cell_type": "markdown",
   "metadata": {},
   "source": [
    "from sklearn.preprocessing import StandardScaler\n",
    "\n",
    "sc = StandardScaler()\n",
    "x_train[:,15:] = sc.fit_transform(x_train[:,15:])\n",
    "x_test[:,15:] = sc.transform(x_test[:,15:])"
   ]
  },
  {
   "cell_type": "markdown",
   "metadata": {},
   "source": [
    "# LDA"
   ]
  },
  {
   "cell_type": "code",
   "execution_count": 284,
   "metadata": {},
   "outputs": [],
   "source": [
    "from sklearn.decomposition import KernelPCA\n",
    "kpca = KernelPCA(n_components = 6, kernel = 'rbf')\n",
    "x_train = kpca.fit_transform(x_train)\n",
    "x_test = kpca.transform(x_test)"
   ]
  },
  {
   "cell_type": "markdown",
   "metadata": {},
   "source": [
    "# Training Random Forest classifier"
   ]
  },
  {
   "cell_type": "code",
   "execution_count": 17,
   "metadata": {},
   "outputs": [
    {
     "name": "stderr",
     "output_type": "stream",
     "text": [
      "C:\\Users\\Bihari\\Anaconda3\\lib\\site-packages\\sklearn\\ensemble\\forest.py:246: FutureWarning: The default value of n_estimators will change from 10 in version 0.20 to 100 in 0.22.\n",
      "  \"10 in version 0.20 to 100 in 0.22.\", FutureWarning)\n"
     ]
    },
    {
     "data": {
      "text/plain": [
       "RandomForestClassifier(bootstrap=True, class_weight=None, criterion='gini',\n",
       "            max_depth=None, max_features='auto', max_leaf_nodes=None,\n",
       "            min_impurity_decrease=0.0, min_impurity_split=None,\n",
       "            min_samples_leaf=1, min_samples_split=2,\n",
       "            min_weight_fraction_leaf=0.0, n_estimators=10, n_jobs=None,\n",
       "            oob_score=False, random_state=None, verbose=0,\n",
       "            warm_start=False)"
      ]
     },
     "execution_count": 17,
     "metadata": {},
     "output_type": "execute_result"
    }
   ],
   "source": [
    "from sklearn.ensemble import RandomForestClassifier\n",
    "classifier = RandomForestClassifier()\n",
    "classifier.fit(x_train, y_train)"
   ]
  },
  {
   "cell_type": "markdown",
   "metadata": {},
   "source": [
    "## components vs accuracy"
   ]
  },
  {
   "cell_type": "markdown",
   "metadata": {},
   "source": [
    "acc = []\n",
    "for i in range(2,10):\n",
    "    from sklearn.decomposition import KernelPCA\n",
    "    kpca = KernelPCA(n_components = i, kernel = 'rbf')\n",
    "    x_train = kpca.fit_transform(x_train)\n",
    "    x_test = kpca.transform(x_test)\n",
    "    from sklearn.ensemble import RandomForestClassifier\n",
    "    classifier = RandomForestClassifier(n_estimators=10,random_state=0)\n",
    "    classifier.fit(x_train, y_train)\n",
    "    from sklearn.metrics import accuracy_score\n",
    "    y_pred = classifier.predict(x_test)\n",
    "    acc.append(accuracy_score(y_test, y_pred))\n",
    "\n",
    "plt.plot(range(2,16),acc)\n",
    "plt.title('accuracy vs no of components')\n",
    "plt.xlabel('no of components')\n",
    "plt.ylabel('Accuracy')\n",
    "plt.show()"
   ]
  },
  {
   "cell_type": "markdown",
   "metadata": {},
   "source": [
    "# Predicting Test Result"
   ]
  },
  {
   "cell_type": "code",
   "execution_count": 12,
   "metadata": {},
   "outputs": [
    {
     "name": "stdout",
     "output_type": "stream",
     "text": [
      "[[3 3]\n",
      " [1 1]\n",
      " [1 1]\n",
      " ...\n",
      " [1 1]\n",
      " [4 4]\n",
      " [3 3]]\n"
     ]
    }
   ],
   "source": [
    "y_pred = classifier.predict(x_test)\n",
    "np.set_printoptions(precision=2)\n",
    "print(np.concatenate((y_pred.reshape(len(y_pred),1), y_test.reshape(len(y_test),1)),1))"
   ]
  },
  {
   "cell_type": "markdown",
   "metadata": {},
   "source": [
    "# Evaluating accuracy"
   ]
  },
  {
   "cell_type": "markdown",
   "metadata": {},
   "source": [
    "from sklearn.metrics import r2_score, mean_squared_error\n",
    "print('R squared error = {} '.format(r2_score(y_test, y_pred)))\n",
    "print('RMSE: = {}'.format(mean_squared_error(y_test, y_pred)))"
   ]
  },
  {
   "cell_type": "code",
   "execution_count": 18,
   "metadata": {},
   "outputs": [
    {
     "name": "stdout",
     "output_type": "stream",
     "text": [
      "[[523   0   0   0]\n",
      " [  1 269   0   0]\n",
      " [  0   3 254   0]\n",
      " [  2   1   0 267]]\n"
     ]
    },
    {
     "data": {
      "text/plain": [
       "0.9946969696969697"
      ]
     },
     "execution_count": 18,
     "metadata": {},
     "output_type": "execute_result"
    }
   ],
   "source": [
    "from sklearn.metrics import confusion_matrix, accuracy_score\n",
    "y_pred = classifier.predict(x_test)\n",
    "cm = confusion_matrix(y_test, y_pred)\n",
    "print(cm)\n",
    "accuracy_score(y_test, y_pred)"
   ]
  },
  {
   "cell_type": "markdown",
   "metadata": {},
   "source": [
    "# predicting unlabled data"
   ]
  },
  {
   "cell_type": "code",
   "execution_count": 29,
   "metadata": {},
   "outputs": [
    {
     "data": {
      "text/html": [
       "<div>\n",
       "<style scoped>\n",
       "    .dataframe tbody tr th:only-of-type {\n",
       "        vertical-align: middle;\n",
       "    }\n",
       "\n",
       "    .dataframe tbody tr th {\n",
       "        vertical-align: top;\n",
       "    }\n",
       "\n",
       "    .dataframe thead th {\n",
       "        text-align: right;\n",
       "    }\n",
       "</style>\n",
       "<table border=\"1\" class=\"dataframe\">\n",
       "  <thead>\n",
       "    <tr style=\"text-align: right;\">\n",
       "      <th></th>\n",
       "      <th>x</th>\n",
       "      <th>y</th>\n",
       "      <th>DFF</th>\n",
       "      <th>DFR</th>\n",
       "      <th>Altitude</th>\n",
       "      <th>Draw_D</th>\n",
       "      <th>Drain_D</th>\n",
       "      <th>LS</th>\n",
       "      <th>Lineam_D</th>\n",
       "      <th>MRVBF</th>\n",
       "      <th>...</th>\n",
       "      <th>SCA</th>\n",
       "      <th>Profile_C</th>\n",
       "      <th>Plan_C</th>\n",
       "      <th>TRI</th>\n",
       "      <th>SPI</th>\n",
       "      <th>Slope</th>\n",
       "      <th>TWI</th>\n",
       "      <th>TPI</th>\n",
       "      <th>litho_recl</th>\n",
       "      <th>geomorph_R</th>\n",
       "    </tr>\n",
       "  </thead>\n",
       "  <tbody>\n",
       "    <tr>\n",
       "      <th>0</th>\n",
       "      <td>258143.343169</td>\n",
       "      <td>2.664110e+06</td>\n",
       "      <td>12.36240</td>\n",
       "      <td>8.60310</td>\n",
       "      <td>541.0</td>\n",
       "      <td>4.33529</td>\n",
       "      <td>0.16722</td>\n",
       "      <td>1.75086</td>\n",
       "      <td>0.0</td>\n",
       "      <td>0.16393</td>\n",
       "      <td>...</td>\n",
       "      <td>17.57359</td>\n",
       "      <td>-0.00098</td>\n",
       "      <td>-0.00084</td>\n",
       "      <td>2.48998</td>\n",
       "      <td>256.40796</td>\n",
       "      <td>0.12944</td>\n",
       "      <td>6.25581</td>\n",
       "      <td>0.64865</td>\n",
       "      <td>2.0</td>\n",
       "      <td>2.0</td>\n",
       "    </tr>\n",
       "    <tr>\n",
       "      <th>1</th>\n",
       "      <td>258233.343169</td>\n",
       "      <td>2.664110e+06</td>\n",
       "      <td>12.27924</td>\n",
       "      <td>8.59698</td>\n",
       "      <td>536.0</td>\n",
       "      <td>4.33185</td>\n",
       "      <td>0.16012</td>\n",
       "      <td>0.47551</td>\n",
       "      <td>0.0</td>\n",
       "      <td>1.84461</td>\n",
       "      <td>...</td>\n",
       "      <td>40.00359</td>\n",
       "      <td>-0.00244</td>\n",
       "      <td>-0.02385</td>\n",
       "      <td>1.00000</td>\n",
       "      <td>141.52002</td>\n",
       "      <td>0.03725</td>\n",
       "      <td>7.06296</td>\n",
       "      <td>-1.02703</td>\n",
       "      <td>2.0</td>\n",
       "      <td>2.0</td>\n",
       "    </tr>\n",
       "    <tr>\n",
       "      <th>2</th>\n",
       "      <td>258323.343169</td>\n",
       "      <td>2.664110e+06</td>\n",
       "      <td>12.19617</td>\n",
       "      <td>8.59179</td>\n",
       "      <td>535.0</td>\n",
       "      <td>4.32848</td>\n",
       "      <td>0.14855</td>\n",
       "      <td>0.90309</td>\n",
       "      <td>0.0</td>\n",
       "      <td>0.91355</td>\n",
       "      <td>...</td>\n",
       "      <td>36.81416</td>\n",
       "      <td>0.00071</td>\n",
       "      <td>0.00571</td>\n",
       "      <td>1.34164</td>\n",
       "      <td>225.42549</td>\n",
       "      <td>0.06861</td>\n",
       "      <td>7.31022</td>\n",
       "      <td>0.54054</td>\n",
       "      <td>2.0</td>\n",
       "      <td>2.0</td>\n",
       "    </tr>\n",
       "    <tr>\n",
       "      <th>3</th>\n",
       "      <td>258413.343169</td>\n",
       "      <td>2.664110e+06</td>\n",
       "      <td>12.11320</td>\n",
       "      <td>8.58755</td>\n",
       "      <td>536.0</td>\n",
       "      <td>4.32518</td>\n",
       "      <td>0.14352</td>\n",
       "      <td>1.06532</td>\n",
       "      <td>0.0</td>\n",
       "      <td>0.36503</td>\n",
       "      <td>...</td>\n",
       "      <td>17.57359</td>\n",
       "      <td>0.00220</td>\n",
       "      <td>0.01238</td>\n",
       "      <td>1.84391</td>\n",
       "      <td>113.97736</td>\n",
       "      <td>0.08951</td>\n",
       "      <td>6.68820</td>\n",
       "      <td>2.24324</td>\n",
       "      <td>2.0</td>\n",
       "      <td>2.0</td>\n",
       "    </tr>\n",
       "    <tr>\n",
       "      <th>4</th>\n",
       "      <td>258503.343169</td>\n",
       "      <td>2.664110e+06</td>\n",
       "      <td>12.03034</td>\n",
       "      <td>8.58425</td>\n",
       "      <td>537.0</td>\n",
       "      <td>4.32195</td>\n",
       "      <td>0.13879</td>\n",
       "      <td>0.44645</td>\n",
       "      <td>0.0</td>\n",
       "      <td>0.06206</td>\n",
       "      <td>...</td>\n",
       "      <td>22.16388</td>\n",
       "      <td>0.00089</td>\n",
       "      <td>0.00596</td>\n",
       "      <td>0.77460</td>\n",
       "      <td>36.82467</td>\n",
       "      <td>0.03725</td>\n",
       "      <td>7.46354</td>\n",
       "      <td>1.97297</td>\n",
       "      <td>4.0</td>\n",
       "      <td>2.0</td>\n",
       "    </tr>\n",
       "    <tr>\n",
       "      <th>5</th>\n",
       "      <td>258593.343169</td>\n",
       "      <td>2.664110e+06</td>\n",
       "      <td>11.94757</td>\n",
       "      <td>8.58189</td>\n",
       "      <td>530.0</td>\n",
       "      <td>4.31879</td>\n",
       "      <td>0.13477</td>\n",
       "      <td>1.07262</td>\n",
       "      <td>0.0</td>\n",
       "      <td>1.78328</td>\n",
       "      <td>...</td>\n",
       "      <td>45.05311</td>\n",
       "      <td>-0.00603</td>\n",
       "      <td>-0.07360</td>\n",
       "      <td>3.13050</td>\n",
       "      <td>483.79874</td>\n",
       "      <td>0.08314</td>\n",
       "      <td>6.73362</td>\n",
       "      <td>-4.02703</td>\n",
       "      <td>4.0</td>\n",
       "      <td>2.0</td>\n",
       "    </tr>\n",
       "    <tr>\n",
       "      <th>6</th>\n",
       "      <td>258683.343169</td>\n",
       "      <td>2.664110e+06</td>\n",
       "      <td>11.86491</td>\n",
       "      <td>8.58047</td>\n",
       "      <td>534.0</td>\n",
       "      <td>4.31569</td>\n",
       "      <td>0.13070</td>\n",
       "      <td>0.69362</td>\n",
       "      <td>0.0</td>\n",
       "      <td>0.05827</td>\n",
       "      <td>...</td>\n",
       "      <td>17.57359</td>\n",
       "      <td>0.00170</td>\n",
       "      <td>0.02702</td>\n",
       "      <td>1.34164</td>\n",
       "      <td>61.00688</td>\n",
       "      <td>0.06002</td>\n",
       "      <td>6.92963</td>\n",
       "      <td>1.56757</td>\n",
       "      <td>4.0</td>\n",
       "      <td>2.0</td>\n",
       "    </tr>\n",
       "    <tr>\n",
       "      <th>7</th>\n",
       "      <td>258773.343169</td>\n",
       "      <td>2.664110e+06</td>\n",
       "      <td>11.78236</td>\n",
       "      <td>8.58000</td>\n",
       "      <td>532.0</td>\n",
       "      <td>4.31266</td>\n",
       "      <td>0.12659</td>\n",
       "      <td>0.92361</td>\n",
       "      <td>0.0</td>\n",
       "      <td>0.97943</td>\n",
       "      <td>...</td>\n",
       "      <td>41.95362</td>\n",
       "      <td>-0.00221</td>\n",
       "      <td>-0.00000</td>\n",
       "      <td>1.41421</td>\n",
       "      <td>115.40007</td>\n",
       "      <td>0.06657</td>\n",
       "      <td>6.74746</td>\n",
       "      <td>-0.59459</td>\n",
       "      <td>4.0</td>\n",
       "      <td>2.0</td>\n",
       "    </tr>\n",
       "    <tr>\n",
       "      <th>8</th>\n",
       "      <td>258143.343169</td>\n",
       "      <td>2.664200e+06</td>\n",
       "      <td>12.32839</td>\n",
       "      <td>8.51334</td>\n",
       "      <td>535.0</td>\n",
       "      <td>4.32580</td>\n",
       "      <td>0.17574</td>\n",
       "      <td>1.00166</td>\n",
       "      <td>0.0</td>\n",
       "      <td>0.84130</td>\n",
       "      <td>...</td>\n",
       "      <td>187.56355</td>\n",
       "      <td>0.00227</td>\n",
       "      <td>-0.01712</td>\n",
       "      <td>1.48324</td>\n",
       "      <td>521.14337</td>\n",
       "      <td>0.06861</td>\n",
       "      <td>6.75585</td>\n",
       "      <td>0.35135</td>\n",
       "      <td>2.0</td>\n",
       "      <td>2.0</td>\n",
       "    </tr>\n",
       "    <tr>\n",
       "      <th>9</th>\n",
       "      <td>258233.343169</td>\n",
       "      <td>2.664200e+06</td>\n",
       "      <td>12.24500</td>\n",
       "      <td>8.50716</td>\n",
       "      <td>534.0</td>\n",
       "      <td>4.32241</td>\n",
       "      <td>0.17108</td>\n",
       "      <td>1.20406</td>\n",
       "      <td>0.0</td>\n",
       "      <td>0.33484</td>\n",
       "      <td>...</td>\n",
       "      <td>85.83942</td>\n",
       "      <td>0.00182</td>\n",
       "      <td>0.00387</td>\n",
       "      <td>1.89737</td>\n",
       "      <td>212.62872</td>\n",
       "      <td>0.09688</td>\n",
       "      <td>6.78160</td>\n",
       "      <td>2.32432</td>\n",
       "      <td>2.0</td>\n",
       "      <td>2.0</td>\n",
       "    </tr>\n",
       "  </tbody>\n",
       "</table>\n",
       "<p>10 rows × 22 columns</p>\n",
       "</div>"
      ],
      "text/plain": [
       "               x             y       DFF      DFR  Altitude   Draw_D  Drain_D  \\\n",
       "0  258143.343169  2.664110e+06  12.36240  8.60310     541.0  4.33529  0.16722   \n",
       "1  258233.343169  2.664110e+06  12.27924  8.59698     536.0  4.33185  0.16012   \n",
       "2  258323.343169  2.664110e+06  12.19617  8.59179     535.0  4.32848  0.14855   \n",
       "3  258413.343169  2.664110e+06  12.11320  8.58755     536.0  4.32518  0.14352   \n",
       "4  258503.343169  2.664110e+06  12.03034  8.58425     537.0  4.32195  0.13879   \n",
       "5  258593.343169  2.664110e+06  11.94757  8.58189     530.0  4.31879  0.13477   \n",
       "6  258683.343169  2.664110e+06  11.86491  8.58047     534.0  4.31569  0.13070   \n",
       "7  258773.343169  2.664110e+06  11.78236  8.58000     532.0  4.31266  0.12659   \n",
       "8  258143.343169  2.664200e+06  12.32839  8.51334     535.0  4.32580  0.17574   \n",
       "9  258233.343169  2.664200e+06  12.24500  8.50716     534.0  4.32241  0.17108   \n",
       "\n",
       "        LS  Lineam_D    MRVBF  ...        SCA  Profile_C   Plan_C      TRI  \\\n",
       "0  1.75086       0.0  0.16393  ...   17.57359   -0.00098 -0.00084  2.48998   \n",
       "1  0.47551       0.0  1.84461  ...   40.00359   -0.00244 -0.02385  1.00000   \n",
       "2  0.90309       0.0  0.91355  ...   36.81416    0.00071  0.00571  1.34164   \n",
       "3  1.06532       0.0  0.36503  ...   17.57359    0.00220  0.01238  1.84391   \n",
       "4  0.44645       0.0  0.06206  ...   22.16388    0.00089  0.00596  0.77460   \n",
       "5  1.07262       0.0  1.78328  ...   45.05311   -0.00603 -0.07360  3.13050   \n",
       "6  0.69362       0.0  0.05827  ...   17.57359    0.00170  0.02702  1.34164   \n",
       "7  0.92361       0.0  0.97943  ...   41.95362   -0.00221 -0.00000  1.41421   \n",
       "8  1.00166       0.0  0.84130  ...  187.56355    0.00227 -0.01712  1.48324   \n",
       "9  1.20406       0.0  0.33484  ...   85.83942    0.00182  0.00387  1.89737   \n",
       "\n",
       "         SPI    Slope      TWI      TPI  litho_recl  geomorph_R  \n",
       "0  256.40796  0.12944  6.25581  0.64865         2.0         2.0  \n",
       "1  141.52002  0.03725  7.06296 -1.02703         2.0         2.0  \n",
       "2  225.42549  0.06861  7.31022  0.54054         2.0         2.0  \n",
       "3  113.97736  0.08951  6.68820  2.24324         2.0         2.0  \n",
       "4   36.82467  0.03725  7.46354  1.97297         4.0         2.0  \n",
       "5  483.79874  0.08314  6.73362 -4.02703         4.0         2.0  \n",
       "6   61.00688  0.06002  6.92963  1.56757         4.0         2.0  \n",
       "7  115.40007  0.06657  6.74746 -0.59459         4.0         2.0  \n",
       "8  521.14337  0.06861  6.75585  0.35135         2.0         2.0  \n",
       "9  212.62872  0.09688  6.78160  2.32432         2.0         2.0  \n",
       "\n",
       "[10 rows x 22 columns]"
      ]
     },
     "execution_count": 29,
     "metadata": {},
     "output_type": "execute_result"
    }
   ],
   "source": [
    "unlabeled = pd.read_csv('Data_unlabeled.csv')\n",
    "\n",
    "x_unl = unlabeled.iloc[: , 2:].values\n",
    "x_coordinates = unlabeled.iloc[:,:2]\n",
    "unlabeled.head(10)"
   ]
  },
  {
   "cell_type": "code",
   "execution_count": 21,
   "metadata": {},
   "outputs": [
    {
     "name": "stdout",
     "output_type": "stream",
     "text": [
      "[ 1.24e+01  8.60e+00  5.41e+02  4.34e+00  1.67e-01  1.75e+00  0.00e+00\n",
      "  1.64e-01  2.06e-01  4.00e+00  1.76e+01 -9.80e-04 -8.40e-04  2.49e+00\n",
      "  2.56e+02  1.29e-01  6.26e+00  6.49e-01  2.00e+00  2.00e+00]\n"
     ]
    }
   ],
   "source": [
    "print(x_unl[0])"
   ]
  },
  {
   "cell_type": "code",
   "execution_count": 23,
   "metadata": {},
   "outputs": [
    {
     "name": "stdout",
     "output_type": "stream",
     "text": [
      "1\n"
     ]
    }
   ],
   "source": [
    "label = classifier.predict(x_unl)\n",
    "print(label[0])"
   ]
  },
  {
   "cell_type": "code",
   "execution_count": 30,
   "metadata": {},
   "outputs": [
    {
     "data": {
      "text/html": [
       "<div>\n",
       "<style scoped>\n",
       "    .dataframe tbody tr th:only-of-type {\n",
       "        vertical-align: middle;\n",
       "    }\n",
       "\n",
       "    .dataframe tbody tr th {\n",
       "        vertical-align: top;\n",
       "    }\n",
       "\n",
       "    .dataframe thead th {\n",
       "        text-align: right;\n",
       "    }\n",
       "</style>\n",
       "<table border=\"1\" class=\"dataframe\">\n",
       "  <thead>\n",
       "    <tr style=\"text-align: right;\">\n",
       "      <th></th>\n",
       "      <th>x</th>\n",
       "      <th>y</th>\n",
       "    </tr>\n",
       "  </thead>\n",
       "  <tbody>\n",
       "    <tr>\n",
       "      <th>0</th>\n",
       "      <td>258143.343169</td>\n",
       "      <td>2.664110e+06</td>\n",
       "    </tr>\n",
       "    <tr>\n",
       "      <th>1</th>\n",
       "      <td>258233.343169</td>\n",
       "      <td>2.664110e+06</td>\n",
       "    </tr>\n",
       "    <tr>\n",
       "      <th>2</th>\n",
       "      <td>258323.343169</td>\n",
       "      <td>2.664110e+06</td>\n",
       "    </tr>\n",
       "    <tr>\n",
       "      <th>3</th>\n",
       "      <td>258413.343169</td>\n",
       "      <td>2.664110e+06</td>\n",
       "    </tr>\n",
       "    <tr>\n",
       "      <th>4</th>\n",
       "      <td>258503.343169</td>\n",
       "      <td>2.664110e+06</td>\n",
       "    </tr>\n",
       "  </tbody>\n",
       "</table>\n",
       "</div>"
      ],
      "text/plain": [
       "               x             y\n",
       "0  258143.343169  2.664110e+06\n",
       "1  258233.343169  2.664110e+06\n",
       "2  258323.343169  2.664110e+06\n",
       "3  258413.343169  2.664110e+06\n",
       "4  258503.343169  2.664110e+06"
      ]
     },
     "execution_count": 30,
     "metadata": {},
     "output_type": "execute_result"
    }
   ],
   "source": [
    "x_coordinates.head()"
   ]
  },
  {
   "cell_type": "code",
   "execution_count": 31,
   "metadata": {},
   "outputs": [
    {
     "name": "stderr",
     "output_type": "stream",
     "text": [
      "C:\\Users\\Bihari\\Anaconda3\\lib\\site-packages\\ipykernel_launcher.py:1: SettingWithCopyWarning: \n",
      "A value is trying to be set on a copy of a slice from a DataFrame.\n",
      "Try using .loc[row_indexer,col_indexer] = value instead\n",
      "\n",
      "See the caveats in the documentation: http://pandas.pydata.org/pandas-docs/stable/indexing.html#indexing-view-versus-copy\n",
      "  \"\"\"Entry point for launching an IPython kernel.\n"
     ]
    },
    {
     "data": {
      "text/html": [
       "<div>\n",
       "<style scoped>\n",
       "    .dataframe tbody tr th:only-of-type {\n",
       "        vertical-align: middle;\n",
       "    }\n",
       "\n",
       "    .dataframe tbody tr th {\n",
       "        vertical-align: top;\n",
       "    }\n",
       "\n",
       "    .dataframe thead th {\n",
       "        text-align: right;\n",
       "    }\n",
       "</style>\n",
       "<table border=\"1\" class=\"dataframe\">\n",
       "  <thead>\n",
       "    <tr style=\"text-align: right;\">\n",
       "      <th></th>\n",
       "      <th>x</th>\n",
       "      <th>y</th>\n",
       "      <th>well_class</th>\n",
       "    </tr>\n",
       "  </thead>\n",
       "  <tbody>\n",
       "    <tr>\n",
       "      <th>0</th>\n",
       "      <td>258143.343169</td>\n",
       "      <td>2.664110e+06</td>\n",
       "      <td>1</td>\n",
       "    </tr>\n",
       "    <tr>\n",
       "      <th>1</th>\n",
       "      <td>258233.343169</td>\n",
       "      <td>2.664110e+06</td>\n",
       "      <td>1</td>\n",
       "    </tr>\n",
       "    <tr>\n",
       "      <th>2</th>\n",
       "      <td>258323.343169</td>\n",
       "      <td>2.664110e+06</td>\n",
       "      <td>1</td>\n",
       "    </tr>\n",
       "    <tr>\n",
       "      <th>3</th>\n",
       "      <td>258413.343169</td>\n",
       "      <td>2.664110e+06</td>\n",
       "      <td>1</td>\n",
       "    </tr>\n",
       "    <tr>\n",
       "      <th>4</th>\n",
       "      <td>258503.343169</td>\n",
       "      <td>2.664110e+06</td>\n",
       "      <td>1</td>\n",
       "    </tr>\n",
       "  </tbody>\n",
       "</table>\n",
       "</div>"
      ],
      "text/plain": [
       "               x             y  well_class\n",
       "0  258143.343169  2.664110e+06           1\n",
       "1  258233.343169  2.664110e+06           1\n",
       "2  258323.343169  2.664110e+06           1\n",
       "3  258413.343169  2.664110e+06           1\n",
       "4  258503.343169  2.664110e+06           1"
      ]
     },
     "execution_count": 31,
     "metadata": {},
     "output_type": "execute_result"
    }
   ],
   "source": [
    "x_coordinates['well_class'] = label\n",
    "\n",
    "x_coordinates.head()"
   ]
  },
  {
   "cell_type": "code",
   "execution_count": 34,
   "metadata": {},
   "outputs": [
    {
     "name": "stdout",
     "output_type": "stream",
     "text": [
      "1    1380047\n",
      "2     264291\n",
      "3     210320\n",
      "4     195965\n",
      "Name: well_class, dtype: int64\n"
     ]
    },
    {
     "data": {
      "text/plain": [
       "<matplotlib.axes._subplots.AxesSubplot at 0x28600600780>"
      ]
     },
     "execution_count": 34,
     "metadata": {},
     "output_type": "execute_result"
    },
    {
     "data": {
      "image/png": "[encoded data removed]",
      "text/plain": [
       "<Figure size 432x288 with 1 Axes>"
      ]
     },
     "metadata": {
      "needs_background": "light"
     },
     "output_type": "display_data"
    }
   ],
   "source": [
    "print(pd.value_counts(x_coordinates['well_class']))\n",
    "pd.value_counts(x_coordinates['well_class']).plot.bar()"
   ]
  },
  {
   "cell_type": "code",
   "execution_count": 32,
   "metadata": {},
   "outputs": [],
   "source": [
    "#exporting the data\n",
    "x_coordinates.to_csv('prediction.csv')"
   ]
  },
  {
   "cell_type": "code",
   "execution_count": null,
   "metadata": {},
   "outputs": [],
   "source": []
  },
  {
   "cell_type": "markdown",
   "metadata": {},
   "source": [
    "# Grid search"
   ]
  },
  {
   "cell_type": "code",
   "execution_count": 287,
   "metadata": {},
   "outputs": [
    {
     "ename": "MemoryError",
     "evalue": "",
     "output_type": "error",
     "traceback": [
      "\u001b[1;31m---------------------------------------------------------------------------\u001b[0m",
      "\u001b[1;31mMemoryError\u001b[0m                               Traceback (most recent call last)",
      "\u001b[1;32m<ipython-input-287-371e6c79afc3>\u001b[0m in \u001b[0;36m<module>\u001b[1;34m\u001b[0m\n\u001b[0;32m      7\u001b[0m                            \u001b[0mcv\u001b[0m \u001b[1;33m=\u001b[0m \u001b[1;36m10\u001b[0m\u001b[1;33m,\u001b[0m\u001b[1;33m\u001b[0m\u001b[1;33m\u001b[0m\u001b[0m\n\u001b[0;32m      8\u001b[0m                            n_jobs = -1)\n\u001b[1;32m----> 9\u001b[1;33m \u001b[0mgrid_search\u001b[0m \u001b[1;33m=\u001b[0m \u001b[0mgrid_search\u001b[0m\u001b[1;33m.\u001b[0m\u001b[0mfit\u001b[0m\u001b[1;33m(\u001b[0m\u001b[0mx_train\u001b[0m\u001b[1;33m,\u001b[0m \u001b[0my_train\u001b[0m\u001b[1;33m)\u001b[0m\u001b[1;33m\u001b[0m\u001b[1;33m\u001b[0m\u001b[0m\n\u001b[0m\u001b[0;32m     10\u001b[0m \u001b[0mbest_accuracy\u001b[0m \u001b[1;33m=\u001b[0m \u001b[0mgrid_search\u001b[0m\u001b[1;33m.\u001b[0m\u001b[0mbest_score_\u001b[0m\u001b[1;33m\u001b[0m\u001b[1;33m\u001b[0m\u001b[0m\n\u001b[0;32m     11\u001b[0m \u001b[0mbest_parameters\u001b[0m \u001b[1;33m=\u001b[0m \u001b[0mgrid_search\u001b[0m\u001b[1;33m.\u001b[0m\u001b[0mbest_params_\u001b[0m\u001b[1;33m\u001b[0m\u001b[1;33m\u001b[0m\u001b[0m\n",
      "\u001b[1;32m~\\Anaconda3\\lib\\site-packages\\sklearn\\model_selection\\_search.py\u001b[0m in \u001b[0;36mfit\u001b[1;34m(self, X, y, groups, **fit_params)\u001b[0m\n\u001b[0;32m    720\u001b[0m                 \u001b[1;32mreturn\u001b[0m \u001b[0mresults_container\u001b[0m\u001b[1;33m[\u001b[0m\u001b[1;36m0\u001b[0m\u001b[1;33m]\u001b[0m\u001b[1;33m\u001b[0m\u001b[1;33m\u001b[0m\u001b[0m\n\u001b[0;32m    721\u001b[0m \u001b[1;33m\u001b[0m\u001b[0m\n\u001b[1;32m--> 722\u001b[1;33m             \u001b[0mself\u001b[0m\u001b[1;33m.\u001b[0m\u001b[0m_run_search\u001b[0m\u001b[1;33m(\u001b[0m\u001b[0mevaluate_candidates\u001b[0m\u001b[1;33m)\u001b[0m\u001b[1;33m\u001b[0m\u001b[1;33m\u001b[0m\u001b[0m\n\u001b[0m\u001b[0;32m    723\u001b[0m \u001b[1;33m\u001b[0m\u001b[0m\n\u001b[0;32m    724\u001b[0m         \u001b[0mresults\u001b[0m \u001b[1;33m=\u001b[0m \u001b[0mresults_container\u001b[0m\u001b[1;33m[\u001b[0m\u001b[1;36m0\u001b[0m\u001b[1;33m]\u001b[0m\u001b[1;33m\u001b[0m\u001b[1;33m\u001b[0m\u001b[0m\n",
      "\u001b[1;32m~\\Anaconda3\\lib\\site-packages\\sklearn\\model_selection\\_search.py\u001b[0m in \u001b[0;36m_run_search\u001b[1;34m(self, evaluate_candidates)\u001b[0m\n\u001b[0;32m   1189\u001b[0m     \u001b[1;32mdef\u001b[0m \u001b[0m_run_search\u001b[0m\u001b[1;33m(\u001b[0m\u001b[0mself\u001b[0m\u001b[1;33m,\u001b[0m \u001b[0mevaluate_candidates\u001b[0m\u001b[1;33m)\u001b[0m\u001b[1;33m:\u001b[0m\u001b[1;33m\u001b[0m\u001b[1;33m\u001b[0m\u001b[0m\n\u001b[0;32m   1190\u001b[0m         \u001b[1;34m\"\"\"Search all candidates in param_grid\"\"\"\u001b[0m\u001b[1;33m\u001b[0m\u001b[1;33m\u001b[0m\u001b[0m\n\u001b[1;32m-> 1191\u001b[1;33m         \u001b[0mevaluate_candidates\u001b[0m\u001b[1;33m(\u001b[0m\u001b[0mParameterGrid\u001b[0m\u001b[1;33m(\u001b[0m\u001b[0mself\u001b[0m\u001b[1;33m.\u001b[0m\u001b[0mparam_grid\u001b[0m\u001b[1;33m)\u001b[0m\u001b[1;33m)\u001b[0m\u001b[1;33m\u001b[0m\u001b[1;33m\u001b[0m\u001b[0m\n\u001b[0m\u001b[0;32m   1192\u001b[0m \u001b[1;33m\u001b[0m\u001b[0m\n\u001b[0;32m   1193\u001b[0m \u001b[1;33m\u001b[0m\u001b[0m\n",
      "\u001b[1;32m~\\Anaconda3\\lib\\site-packages\\sklearn\\model_selection\\_search.py\u001b[0m in \u001b[0;36mevaluate_candidates\u001b[1;34m(candidate_params)\u001b[0m\n\u001b[0;32m    694\u001b[0m \u001b[1;33m\u001b[0m\u001b[0m\n\u001b[0;32m    695\u001b[0m             \u001b[1;32mdef\u001b[0m \u001b[0mevaluate_candidates\u001b[0m\u001b[1;33m(\u001b[0m\u001b[0mcandidate_params\u001b[0m\u001b[1;33m)\u001b[0m\u001b[1;33m:\u001b[0m\u001b[1;33m\u001b[0m\u001b[1;33m\u001b[0m\u001b[0m\n\u001b[1;32m--> 696\u001b[1;33m                 \u001b[0mcandidate_params\u001b[0m \u001b[1;33m=\u001b[0m \u001b[0mlist\u001b[0m\u001b[1;33m(\u001b[0m\u001b[0mcandidate_params\u001b[0m\u001b[1;33m)\u001b[0m\u001b[1;33m\u001b[0m\u001b[1;33m\u001b[0m\u001b[0m\n\u001b[0m\u001b[0;32m    697\u001b[0m                 \u001b[0mn_candidates\u001b[0m \u001b[1;33m=\u001b[0m \u001b[0mlen\u001b[0m\u001b[1;33m(\u001b[0m\u001b[0mcandidate_params\u001b[0m\u001b[1;33m)\u001b[0m\u001b[1;33m\u001b[0m\u001b[1;33m\u001b[0m\u001b[0m\n\u001b[0;32m    698\u001b[0m \u001b[1;33m\u001b[0m\u001b[0m\n",
      "\u001b[1;31mMemoryError\u001b[0m: "
     ]
    }
   ],
   "source": [
    "from sklearn.model_selection import GridSearchCV\n",
    "parameters = [{'n_estimators': list(np.arange(1,100)), 'criterion': ['gini','entrophy'], 'min_samples_split': list(np.arange(1,100)),\n",
    "               'random_state': list(np.arange(1,100)), 'max_depth': list(np.arange(1,50)), 'min_samples_leaf':list(np.arange(1,30))}]\n",
    "grid_search = GridSearchCV(estimator = classifier,\n",
    "                           param_grid = parameters,\n",
    "                           scoring = 'accuracy',\n",
    "                           cv = 10,\n",
    "                           n_jobs = -1)\n",
    "grid_search = grid_search.fit(x_train, y_train)\n",
    "best_accuracy = grid_search.best_score_\n",
    "best_parameters = grid_search.best_params_\n",
    "print(\"Best Accuracy: {:.2f} %\".format(best_accuracy*100))\n",
    "print(\"Best Parameters:\", best_parameters)"
   ]
  },
  {
   "cell_type": "code",
   "execution_count": 22,
   "metadata": {},
   "outputs": [
    {
     "name": "stdout",
     "output_type": "stream",
     "text": [
      "Accuracy: 99.51 %\n",
      "Standard Deviation: 0.30 %\n"
     ]
    }
   ],
   "source": [
    "from sklearn.model_selection import cross_val_score\n",
    "accuracies = cross_val_score(estimator=classifier, X = x_train , y = y_train, cv = 10)\n",
    "\n",
    "print('Accuracy: {:0.2f} %'.format(accuracies.mean()*100))\n",
    "print('Standard Deviation: {:0.2f} %'.format(accuracies.std()*100))"
   ]
  },
  {
   "cell_type": "code",
   "execution_count": 278,
   "metadata": {},
   "outputs": [
    {
     "data": {
      "text/plain": [
       "[1, 2, 3, 4]"
      ]
     },
     "execution_count": 278,
     "metadata": {},
     "output_type": "execute_result"
    }
   ],
   "source": [
    "list(np.arange(1,5))"
   ]
  },
  {
   "cell_type": "code",
   "execution_count": null,
   "metadata": {},
   "outputs": [],
   "source": []
  }
 ],
 "metadata": {
  "colab": {
   "authorship_tag": "ABX9TyNxDRfLvKVBN9HjXcmlURF3",
   "collapsed_sections": [],
   "name": "data_preprocessing_tools.ipynb",
   "provenance": [],
   "toc_visible": true
  },
  "kernelspec": {
   "display_name": "Python 3",
   "language": "python",
   "name": "python3"
  },
  "language_info": {
   "codemirror_mode": {
    "name": "ipython",
    "version": 3
   },
   "file_extension": ".py",
   "mimetype": "text/x-python",
   "name": "python",
   "nbconvert_exporter": "python",
   "pygments_lexer": "ipython3",
   "version": "3.7.3"
  }
 },
 "nbformat": 4,
 "nbformat_minor": 1
}
