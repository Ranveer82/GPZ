{
 "cells": [
  {
   "cell_type": "markdown",
   "metadata": {
    "colab_type": "text",
    "id": "37puETfgRzzg"
   },
   "source": [
    "# Data Preprocessing Tools"
   ]
  },
  {
   "cell_type": "markdown",
   "metadata": {
    "colab_type": "text",
    "id": "EoRP98MpR-qj"
   },
   "source": [
    "## Importing the libraries"
   ]
  },
  {
   "cell_type": "code",
   "execution_count": 1,
   "metadata": {
    "colab": {},
    "colab_type": "code",
    "id": "N-qiINBQSK2g"
   },
   "outputs": [],
   "source": [
    "import numpy as np\n",
    "import matplotlib.pyplot as plt\n",
    "import pandas as pd"
   ]
  },
  {
   "cell_type": "markdown",
   "metadata": {
    "colab_type": "text",
    "id": "RopL7tUZSQkT"
   },
   "source": [
    "## Importing the dataset"
   ]
  },
  {
   "cell_type": "code",
   "execution_count": 2,
   "metadata": {
    "colab": {},
    "colab_type": "code",
    "id": "WwEPNDWySTKm"
   },
   "outputs": [],
   "source": [
    "dataset = pd.read_csv('Train_data_agm.csv')\n",
    "#data = dataset.drop(['Plan_C', 'Prifile_C','Slope','SPI','SCA'], axis=1)"
   ]
  },
  {
   "cell_type": "code",
   "execution_count": 3,
   "metadata": {},
   "outputs": [],
   "source": [
    "x = dataset.iloc[:, :20].values\n",
    "#y_real = dataset.iloc[:, -2].values\n",
    "y_class = dataset.iloc[:, -1].values"
   ]
  },
  {
   "cell_type": "code",
   "execution_count": 4,
   "metadata": {},
   "outputs": [
    {
     "name": "stdout",
     "output_type": "stream",
     "text": [
      "[ 5.41e+00  3.44e+00  1.62e+02  1.73e+00  2.16e+00  2.34e-01  7.14e-01\n",
      "  5.93e+00  4.89e+00  5.00e+00  1.46e+01 -1.11e-03  0.00e+00  4.47e-01\n",
      "  2.79e+01  1.67e-02  7.49e+00 -1.22e+00  1.00e+00  5.00e+00]\n"
     ]
    }
   ],
   "source": [
    "np.set_printoptions(precision=2)\n",
    "print(x[0])"
   ]
  },
  {
   "cell_type": "markdown",
   "metadata": {},
   "source": [
    "## encoding"
   ]
  },
  {
   "cell_type": "markdown",
   "metadata": {},
   "source": [
    "from sklearn.compose import ColumnTransformer\n",
    "from sklearn.preprocessing import OneHotEncoder\n",
    "ct = ColumnTransformer(transformers=[('encoder', OneHotEncoder(), [9,18,19])], remainder='passthrough')\n",
    "x_dummy = np.array(ct.fit_transform(x))"
   ]
  },
  {
   "cell_type": "code",
   "execution_count": 43,
   "metadata": {},
   "outputs": [
    {
     "name": "stdout",
     "output_type": "stream",
     "text": [
      "1    1700\n",
      "2     950\n",
      "3     875\n",
      "4     875\n",
      "Name: well_M, dtype: int64\n"
     ]
    },
    {
     "data": {
      "text/plain": [
       "<matplotlib.axes._subplots.AxesSubplot at 0x1b977c08710>"
      ]
     },
     "execution_count": 43,
     "metadata": {},
     "output_type": "execute_result"
    },
    {
     "data": {
      "image/png": "[encoded data removed]",
      "text/plain": [
       "<Figure size 432x288 with 1 Axes>"
      ]
     },
     "metadata": {
      "needs_background": "light"
     },
     "output_type": "display_data"
    }
   ],
   "source": [
    "print(pd.value_counts(dataset['well_M']))\n",
    "pd.value_counts(dataset['well_M']).plot.bar()"
   ]
  },
  {
   "cell_type": "markdown",
   "metadata": {},
   "source": [
    "### Checking the variation of accuracy with respect to different parameters"
   ]
  },
  {
   "cell_type": "markdown",
   "metadata": {},
   "source": [
    "from sklearn.linear_model import LogisticRegression\n",
    "from sklearn.metrics import  accuracy_score\n",
    "acc = []\n",
    "for i in range(0,100):\n",
    "   \n",
    "        \n",
    "    from sklearn.model_selection import train_test_split\n",
    "    x_train, x_test, y_train, y_test = train_test_split(x, y_class, test_size= 0.2, random_state = 10)\n",
    "    classifier = LogisticRegression(solver='lbfgs',multi_class='multinomial',max_iter=100)\n",
    "    classifier.fit(x_train, y_train)\n",
    "    y_pred = classifier.predict(x_test)\n",
    "    acc.append(accuracy_score(y_test, y_pred))\n",
    "\n",
    "plt.plot(range(0,100),acc, c = 'blue')\n",
    "plt.xlabel('hyperparameter (random Satae)')\n",
    "plt.ylabel('Accuracy')\n",
    "plt.show()"
   ]
  },
  {
   "cell_type": "markdown",
   "metadata": {
    "colab_type": "text",
    "id": "qb_vcgm3qZKW"
   },
   "source": [
    "## Splitting the dataset into the Training set and Test set"
   ]
  },
  {
   "cell_type": "code",
   "execution_count": 5,
   "metadata": {},
   "outputs": [],
   "source": [
    "from sklearn.model_selection import train_test_split\n",
    "x_train, x_test, y_train, y_test = train_test_split(x, y_class, test_size= 0.2)"
   ]
  },
  {
   "cell_type": "markdown",
   "metadata": {},
   "source": [
    "## featurescaling"
   ]
  },
  {
   "cell_type": "code",
   "execution_count": 6,
   "metadata": {},
   "outputs": [],
   "source": [
    "from sklearn.preprocessing import StandardScaler\n",
    "sc = StandardScaler()\n",
    "x_train = sc.fit_transform(x_train)\n",
    "x_test = sc.transform(x_test)"
   ]
  },
  {
   "cell_type": "code",
   "execution_count": 46,
   "metadata": {
    "scrolled": true
   },
   "outputs": [
    {
     "name": "stdout",
     "output_type": "stream",
     "text": [
      "[[-0.79 -1.03 -0.8  ... -1.5  -0.06  0.18]\n",
      " [ 1.75  0.7   1.1  ...  1.14 -0.06  0.18]\n",
      " [-1.22 -0.73  1.1  ... -0.92 -0.06  0.18]\n",
      " ...\n",
      " [-1.35 -1.32 -2.05 ...  0.93 -1.87  1.6 ]\n",
      " [-0.76 -0.81  0.41 ...  0.23 -0.06  0.18]\n",
      " [-1.07 -0.62 -0.58 ...  2.08  1.75  0.18]]\n"
     ]
    }
   ],
   "source": [
    "print(x_train)"
   ]
  },
  {
   "cell_type": "markdown",
   "metadata": {},
   "source": [
    "# Training KNN"
   ]
  },
  {
   "cell_type": "code",
   "execution_count": 7,
   "metadata": {},
   "outputs": [
    {
     "data": {
      "text/plain": [
       "KNeighborsClassifier(algorithm='auto', leaf_size=30, metric='minkowski',\n",
       "           metric_params=None, n_jobs=None, n_neighbors=5, p=2,\n",
       "           weights='uniform')"
      ]
     },
     "execution_count": 7,
     "metadata": {},
     "output_type": "execute_result"
    }
   ],
   "source": [
    "from sklearn.neighbors import KNeighborsClassifier\n",
    "classifier = KNeighborsClassifier(n_neighbors = 5, metric = 'minkowski', p = 2)\n",
    "classifier.fit(x_train, y_train)"
   ]
  },
  {
   "cell_type": "markdown",
   "metadata": {},
   "source": [
    "# Predicting Test Result"
   ]
  },
  {
   "cell_type": "code",
   "execution_count": 8,
   "metadata": {},
   "outputs": [
    {
     "name": "stdout",
     "output_type": "stream",
     "text": [
      "[[1 1]\n",
      " [1 1]\n",
      " [4 4]\n",
      " ...\n",
      " [3 3]\n",
      " [4 4]\n",
      " [3 1]]\n"
     ]
    }
   ],
   "source": [
    "y_pred = classifier.predict(x_test)\n",
    "np.set_printoptions(precision=2)\n",
    "print(np.concatenate((y_pred.reshape(len(y_pred),1), y_test.reshape(len(y_test),1)),1))"
   ]
  },
  {
   "cell_type": "markdown",
   "metadata": {},
   "source": [
    "# Evaluating accuracy"
   ]
  },
  {
   "cell_type": "code",
   "execution_count": 9,
   "metadata": {},
   "outputs": [
    {
     "name": "stdout",
     "output_type": "stream",
     "text": [
      "Confusion Matrix: \n",
      "\n",
      "[[336  15   5  13]\n",
      " [ 11 158   3   8]\n",
      " [ 30   9 127   8]\n",
      " [ 18  18   7 114]]\n",
      "\n",
      "overall Accuracy: 83.52 %\n",
      "              precision    recall  f1-score   support\n",
      "\n",
      "           1       0.85      0.91      0.88       369\n",
      "           2       0.79      0.88      0.83       180\n",
      "           3       0.89      0.73      0.80       174\n",
      "           4       0.80      0.73      0.76       157\n",
      "\n",
      "   micro avg       0.84      0.84      0.84       880\n",
      "   macro avg       0.83      0.81      0.82       880\n",
      "weighted avg       0.84      0.84      0.83       880\n",
      "\n",
      "kappa : 0.766\n"
     ]
    }
   ],
   "source": [
    "from sklearn.metrics import confusion_matrix, accuracy_score,classification_report, cohen_kappa_score\n",
    "cm = confusion_matrix(y_test, y_pred)\n",
    "cr = classification_report(y_test, y_pred)\n",
    "print('Confusion Matrix: \\n')\n",
    "print(cm)\n",
    "\n",
    "print('\\noverall Accuracy: {:0.2f} %'.format(accuracy_score(y_test, y_pred)*100))  \n",
    "print(cr)\n",
    "\n",
    "k= cohen_kappa_score(y_test, y_pred)\n",
    "print('kappa : %0.3f'%k)"
   ]
  },
  {
   "cell_type": "markdown",
   "metadata": {},
   "source": [
    "## Cross Validation"
   ]
  },
  {
   "cell_type": "code",
   "execution_count": 50,
   "metadata": {},
   "outputs": [
    {
     "name": "stdout",
     "output_type": "stream",
     "text": [
      "Accuracy: 81.91 %\n",
      "Standard Deviation: 2.05 %\n"
     ]
    }
   ],
   "source": [
    "from sklearn.model_selection import cross_val_score\n",
    "accuracies = cross_val_score(estimator=classifier, X = x_train , y = y_train, cv = 10,)\n",
    "\n",
    "print('Accuracy: {:0.2f} %'.format(accuracies.mean()*100))\n",
    "print('Standard Deviation: {:0.2f} %'.format(accuracies.std()*100))"
   ]
  },
  {
   "cell_type": "markdown",
   "metadata": {},
   "source": [
    "# Feature Importance"
   ]
  },
  {
   "cell_type": "markdown",
   "metadata": {},
   "source": [
    "# predicting unlabled data"
   ]
  },
  {
   "cell_type": "code",
   "execution_count": 51,
   "metadata": {},
   "outputs": [
    {
     "data": {
      "text/html": [
       "<div>\n",
       "<style scoped>\n",
       "    .dataframe tbody tr th:only-of-type {\n",
       "        vertical-align: middle;\n",
       "    }\n",
       "\n",
       "    .dataframe tbody tr th {\n",
       "        vertical-align: top;\n",
       "    }\n",
       "\n",
       "    .dataframe thead th {\n",
       "        text-align: right;\n",
       "    }\n",
       "</style>\n",
       "<table border=\"1\" class=\"dataframe\">\n",
       "  <thead>\n",
       "    <tr style=\"text-align: right;\">\n",
       "      <th></th>\n",
       "      <th>x</th>\n",
       "      <th>y</th>\n",
       "      <th>DFF</th>\n",
       "      <th>DFR</th>\n",
       "      <th>Altitude</th>\n",
       "      <th>Draw_D</th>\n",
       "      <th>Drain_D</th>\n",
       "      <th>LS</th>\n",
       "      <th>Lineam_D</th>\n",
       "      <th>MRVBF</th>\n",
       "      <th>...</th>\n",
       "      <th>SCA</th>\n",
       "      <th>Profile_C</th>\n",
       "      <th>Plan_C</th>\n",
       "      <th>TRI</th>\n",
       "      <th>SPI</th>\n",
       "      <th>Slope</th>\n",
       "      <th>TWI</th>\n",
       "      <th>TPI</th>\n",
       "      <th>litho_recl</th>\n",
       "      <th>geomorph_R</th>\n",
       "    </tr>\n",
       "  </thead>\n",
       "  <tbody>\n",
       "    <tr>\n",
       "      <th>0</th>\n",
       "      <td>258143.343169</td>\n",
       "      <td>2.664110e+06</td>\n",
       "      <td>12.36240</td>\n",
       "      <td>8.60310</td>\n",
       "      <td>541.0</td>\n",
       "      <td>4.33529</td>\n",
       "      <td>0.16722</td>\n",
       "      <td>1.75086</td>\n",
       "      <td>0.0</td>\n",
       "      <td>0.16393</td>\n",
       "      <td>...</td>\n",
       "      <td>17.57359</td>\n",
       "      <td>-0.00098</td>\n",
       "      <td>-0.00084</td>\n",
       "      <td>2.48998</td>\n",
       "      <td>256.40796</td>\n",
       "      <td>0.12944</td>\n",
       "      <td>6.25581</td>\n",
       "      <td>0.64865</td>\n",
       "      <td>2.0</td>\n",
       "      <td>2.0</td>\n",
       "    </tr>\n",
       "    <tr>\n",
       "      <th>1</th>\n",
       "      <td>258233.343169</td>\n",
       "      <td>2.664110e+06</td>\n",
       "      <td>12.27924</td>\n",
       "      <td>8.59698</td>\n",
       "      <td>536.0</td>\n",
       "      <td>4.33185</td>\n",
       "      <td>0.16012</td>\n",
       "      <td>0.47551</td>\n",
       "      <td>0.0</td>\n",
       "      <td>1.84461</td>\n",
       "      <td>...</td>\n",
       "      <td>40.00359</td>\n",
       "      <td>-0.00244</td>\n",
       "      <td>-0.02385</td>\n",
       "      <td>1.00000</td>\n",
       "      <td>141.52002</td>\n",
       "      <td>0.03725</td>\n",
       "      <td>7.06296</td>\n",
       "      <td>-1.02703</td>\n",
       "      <td>2.0</td>\n",
       "      <td>2.0</td>\n",
       "    </tr>\n",
       "    <tr>\n",
       "      <th>2</th>\n",
       "      <td>258323.343169</td>\n",
       "      <td>2.664110e+06</td>\n",
       "      <td>12.19617</td>\n",
       "      <td>8.59179</td>\n",
       "      <td>535.0</td>\n",
       "      <td>4.32848</td>\n",
       "      <td>0.14855</td>\n",
       "      <td>0.90309</td>\n",
       "      <td>0.0</td>\n",
       "      <td>0.91355</td>\n",
       "      <td>...</td>\n",
       "      <td>36.81416</td>\n",
       "      <td>0.00071</td>\n",
       "      <td>0.00571</td>\n",
       "      <td>1.34164</td>\n",
       "      <td>225.42549</td>\n",
       "      <td>0.06861</td>\n",
       "      <td>7.31022</td>\n",
       "      <td>0.54054</td>\n",
       "      <td>2.0</td>\n",
       "      <td>2.0</td>\n",
       "    </tr>\n",
       "    <tr>\n",
       "      <th>3</th>\n",
       "      <td>258413.343169</td>\n",
       "      <td>2.664110e+06</td>\n",
       "      <td>12.11320</td>\n",
       "      <td>8.58755</td>\n",
       "      <td>536.0</td>\n",
       "      <td>4.32518</td>\n",
       "      <td>0.14352</td>\n",
       "      <td>1.06532</td>\n",
       "      <td>0.0</td>\n",
       "      <td>0.36503</td>\n",
       "      <td>...</td>\n",
       "      <td>17.57359</td>\n",
       "      <td>0.00220</td>\n",
       "      <td>0.01238</td>\n",
       "      <td>1.84391</td>\n",
       "      <td>113.97736</td>\n",
       "      <td>0.08951</td>\n",
       "      <td>6.68820</td>\n",
       "      <td>2.24324</td>\n",
       "      <td>2.0</td>\n",
       "      <td>2.0</td>\n",
       "    </tr>\n",
       "    <tr>\n",
       "      <th>4</th>\n",
       "      <td>258503.343169</td>\n",
       "      <td>2.664110e+06</td>\n",
       "      <td>12.03034</td>\n",
       "      <td>8.58425</td>\n",
       "      <td>537.0</td>\n",
       "      <td>4.32195</td>\n",
       "      <td>0.13879</td>\n",
       "      <td>0.44645</td>\n",
       "      <td>0.0</td>\n",
       "      <td>0.06206</td>\n",
       "      <td>...</td>\n",
       "      <td>22.16388</td>\n",
       "      <td>0.00089</td>\n",
       "      <td>0.00596</td>\n",
       "      <td>0.77460</td>\n",
       "      <td>36.82467</td>\n",
       "      <td>0.03725</td>\n",
       "      <td>7.46354</td>\n",
       "      <td>1.97297</td>\n",
       "      <td>4.0</td>\n",
       "      <td>2.0</td>\n",
       "    </tr>\n",
       "    <tr>\n",
       "      <th>5</th>\n",
       "      <td>258593.343169</td>\n",
       "      <td>2.664110e+06</td>\n",
       "      <td>11.94757</td>\n",
       "      <td>8.58189</td>\n",
       "      <td>530.0</td>\n",
       "      <td>4.31879</td>\n",
       "      <td>0.13477</td>\n",
       "      <td>1.07262</td>\n",
       "      <td>0.0</td>\n",
       "      <td>1.78328</td>\n",
       "      <td>...</td>\n",
       "      <td>45.05311</td>\n",
       "      <td>-0.00603</td>\n",
       "      <td>-0.07360</td>\n",
       "      <td>3.13050</td>\n",
       "      <td>483.79874</td>\n",
       "      <td>0.08314</td>\n",
       "      <td>6.73362</td>\n",
       "      <td>-4.02703</td>\n",
       "      <td>4.0</td>\n",
       "      <td>2.0</td>\n",
       "    </tr>\n",
       "    <tr>\n",
       "      <th>6</th>\n",
       "      <td>258683.343169</td>\n",
       "      <td>2.664110e+06</td>\n",
       "      <td>11.86491</td>\n",
       "      <td>8.58047</td>\n",
       "      <td>534.0</td>\n",
       "      <td>4.31569</td>\n",
       "      <td>0.13070</td>\n",
       "      <td>0.69362</td>\n",
       "      <td>0.0</td>\n",
       "      <td>0.05827</td>\n",
       "      <td>...</td>\n",
       "      <td>17.57359</td>\n",
       "      <td>0.00170</td>\n",
       "      <td>0.02702</td>\n",
       "      <td>1.34164</td>\n",
       "      <td>61.00688</td>\n",
       "      <td>0.06002</td>\n",
       "      <td>6.92963</td>\n",
       "      <td>1.56757</td>\n",
       "      <td>4.0</td>\n",
       "      <td>2.0</td>\n",
       "    </tr>\n",
       "    <tr>\n",
       "      <th>7</th>\n",
       "      <td>258773.343169</td>\n",
       "      <td>2.664110e+06</td>\n",
       "      <td>11.78236</td>\n",
       "      <td>8.58000</td>\n",
       "      <td>532.0</td>\n",
       "      <td>4.31266</td>\n",
       "      <td>0.12659</td>\n",
       "      <td>0.92361</td>\n",
       "      <td>0.0</td>\n",
       "      <td>0.97943</td>\n",
       "      <td>...</td>\n",
       "      <td>41.95362</td>\n",
       "      <td>-0.00221</td>\n",
       "      <td>-0.00000</td>\n",
       "      <td>1.41421</td>\n",
       "      <td>115.40007</td>\n",
       "      <td>0.06657</td>\n",
       "      <td>6.74746</td>\n",
       "      <td>-0.59459</td>\n",
       "      <td>4.0</td>\n",
       "      <td>2.0</td>\n",
       "    </tr>\n",
       "    <tr>\n",
       "      <th>8</th>\n",
       "      <td>258143.343169</td>\n",
       "      <td>2.664200e+06</td>\n",
       "      <td>12.32839</td>\n",
       "      <td>8.51334</td>\n",
       "      <td>535.0</td>\n",
       "      <td>4.32580</td>\n",
       "      <td>0.17574</td>\n",
       "      <td>1.00166</td>\n",
       "      <td>0.0</td>\n",
       "      <td>0.84130</td>\n",
       "      <td>...</td>\n",
       "      <td>187.56355</td>\n",
       "      <td>0.00227</td>\n",
       "      <td>-0.01712</td>\n",
       "      <td>1.48324</td>\n",
       "      <td>521.14337</td>\n",
       "      <td>0.06861</td>\n",
       "      <td>6.75585</td>\n",
       "      <td>0.35135</td>\n",
       "      <td>2.0</td>\n",
       "      <td>2.0</td>\n",
       "    </tr>\n",
       "    <tr>\n",
       "      <th>9</th>\n",
       "      <td>258233.343169</td>\n",
       "      <td>2.664200e+06</td>\n",
       "      <td>12.24500</td>\n",
       "      <td>8.50716</td>\n",
       "      <td>534.0</td>\n",
       "      <td>4.32241</td>\n",
       "      <td>0.17108</td>\n",
       "      <td>1.20406</td>\n",
       "      <td>0.0</td>\n",
       "      <td>0.33484</td>\n",
       "      <td>...</td>\n",
       "      <td>85.83942</td>\n",
       "      <td>0.00182</td>\n",
       "      <td>0.00387</td>\n",
       "      <td>1.89737</td>\n",
       "      <td>212.62872</td>\n",
       "      <td>0.09688</td>\n",
       "      <td>6.78160</td>\n",
       "      <td>2.32432</td>\n",
       "      <td>2.0</td>\n",
       "      <td>2.0</td>\n",
       "    </tr>\n",
       "  </tbody>\n",
       "</table>\n",
       "<p>10 rows × 22 columns</p>\n",
       "</div>"
      ],
      "text/plain": [
       "               x             y       DFF      DFR  Altitude   Draw_D  Drain_D  \\\n",
       "0  258143.343169  2.664110e+06  12.36240  8.60310     541.0  4.33529  0.16722   \n",
       "1  258233.343169  2.664110e+06  12.27924  8.59698     536.0  4.33185  0.16012   \n",
       "2  258323.343169  2.664110e+06  12.19617  8.59179     535.0  4.32848  0.14855   \n",
       "3  258413.343169  2.664110e+06  12.11320  8.58755     536.0  4.32518  0.14352   \n",
       "4  258503.343169  2.664110e+06  12.03034  8.58425     537.0  4.32195  0.13879   \n",
       "5  258593.343169  2.664110e+06  11.94757  8.58189     530.0  4.31879  0.13477   \n",
       "6  258683.343169  2.664110e+06  11.86491  8.58047     534.0  4.31569  0.13070   \n",
       "7  258773.343169  2.664110e+06  11.78236  8.58000     532.0  4.31266  0.12659   \n",
       "8  258143.343169  2.664200e+06  12.32839  8.51334     535.0  4.32580  0.17574   \n",
       "9  258233.343169  2.664200e+06  12.24500  8.50716     534.0  4.32241  0.17108   \n",
       "\n",
       "        LS  Lineam_D    MRVBF  ...        SCA  Profile_C   Plan_C      TRI  \\\n",
       "0  1.75086       0.0  0.16393  ...   17.57359   -0.00098 -0.00084  2.48998   \n",
       "1  0.47551       0.0  1.84461  ...   40.00359   -0.00244 -0.02385  1.00000   \n",
       "2  0.90309       0.0  0.91355  ...   36.81416    0.00071  0.00571  1.34164   \n",
       "3  1.06532       0.0  0.36503  ...   17.57359    0.00220  0.01238  1.84391   \n",
       "4  0.44645       0.0  0.06206  ...   22.16388    0.00089  0.00596  0.77460   \n",
       "5  1.07262       0.0  1.78328  ...   45.05311   -0.00603 -0.07360  3.13050   \n",
       "6  0.69362       0.0  0.05827  ...   17.57359    0.00170  0.02702  1.34164   \n",
       "7  0.92361       0.0  0.97943  ...   41.95362   -0.00221 -0.00000  1.41421   \n",
       "8  1.00166       0.0  0.84130  ...  187.56355    0.00227 -0.01712  1.48324   \n",
       "9  1.20406       0.0  0.33484  ...   85.83942    0.00182  0.00387  1.89737   \n",
       "\n",
       "         SPI    Slope      TWI      TPI  litho_recl  geomorph_R  \n",
       "0  256.40796  0.12944  6.25581  0.64865         2.0         2.0  \n",
       "1  141.52002  0.03725  7.06296 -1.02703         2.0         2.0  \n",
       "2  225.42549  0.06861  7.31022  0.54054         2.0         2.0  \n",
       "3  113.97736  0.08951  6.68820  2.24324         2.0         2.0  \n",
       "4   36.82467  0.03725  7.46354  1.97297         4.0         2.0  \n",
       "5  483.79874  0.08314  6.73362 -4.02703         4.0         2.0  \n",
       "6   61.00688  0.06002  6.92963  1.56757         4.0         2.0  \n",
       "7  115.40007  0.06657  6.74746 -0.59459         4.0         2.0  \n",
       "8  521.14337  0.06861  6.75585  0.35135         2.0         2.0  \n",
       "9  212.62872  0.09688  6.78160  2.32432         2.0         2.0  \n",
       "\n",
       "[10 rows x 22 columns]"
      ]
     },
     "execution_count": 51,
     "metadata": {},
     "output_type": "execute_result"
    }
   ],
   "source": [
    "unlabeled = pd.read_csv('Data_unlabeled.csv')\n",
    "\n",
    "x_unl = unlabeled.iloc[: , 2:].values\n",
    "x_coordinates = unlabeled.iloc[:,:2]\n",
    "unlabeled.head(10)"
   ]
  },
  {
   "cell_type": "code",
   "execution_count": 81,
   "metadata": {},
   "outputs": [
    {
     "data": {
      "text/html": [
       "<div>\n",
       "<style scoped>\n",
       "    .dataframe tbody tr th:only-of-type {\n",
       "        vertical-align: middle;\n",
       "    }\n",
       "\n",
       "    .dataframe tbody tr th {\n",
       "        vertical-align: top;\n",
       "    }\n",
       "\n",
       "    .dataframe thead th {\n",
       "        text-align: right;\n",
       "    }\n",
       "</style>\n",
       "<table border=\"1\" class=\"dataframe\">\n",
       "  <thead>\n",
       "    <tr style=\"text-align: right;\">\n",
       "      <th></th>\n",
       "      <th>x</th>\n",
       "      <th>y</th>\n",
       "      <th>DFF</th>\n",
       "      <th>DFR</th>\n",
       "      <th>Altitude</th>\n",
       "      <th>Draw_D</th>\n",
       "      <th>Drain_D</th>\n",
       "      <th>LS</th>\n",
       "      <th>Lineam_D</th>\n",
       "      <th>MRVBF</th>\n",
       "      <th>...</th>\n",
       "      <th>SCA</th>\n",
       "      <th>Profile_C</th>\n",
       "      <th>Plan_C</th>\n",
       "      <th>TRI</th>\n",
       "      <th>SPI</th>\n",
       "      <th>Slope</th>\n",
       "      <th>TWI</th>\n",
       "      <th>TPI</th>\n",
       "      <th>litho_recl</th>\n",
       "      <th>geomorph_R</th>\n",
       "    </tr>\n",
       "  </thead>\n",
       "  <tbody>\n",
       "    <tr>\n",
       "      <th>count</th>\n",
       "      <td>2.050623e+06</td>\n",
       "      <td>2.050623e+06</td>\n",
       "      <td>2.050623e+06</td>\n",
       "      <td>2.050623e+06</td>\n",
       "      <td>2.050623e+06</td>\n",
       "      <td>2.050623e+06</td>\n",
       "      <td>2.050623e+06</td>\n",
       "      <td>2.050623e+06</td>\n",
       "      <td>2.050623e+06</td>\n",
       "      <td>2.050623e+06</td>\n",
       "      <td>...</td>\n",
       "      <td>2.050623e+06</td>\n",
       "      <td>2.050623e+06</td>\n",
       "      <td>2.050623e+06</td>\n",
       "      <td>2.050623e+06</td>\n",
       "      <td>2.050623e+06</td>\n",
       "      <td>2.050623e+06</td>\n",
       "      <td>2.050623e+06</td>\n",
       "      <td>2.050623e+06</td>\n",
       "      <td>2.050623e+06</td>\n",
       "      <td>2.050623e+06</td>\n",
       "    </tr>\n",
       "    <tr>\n",
       "      <th>mean</th>\n",
       "      <td>2.785837e+05</td>\n",
       "      <td>2.769838e+06</td>\n",
       "      <td>1.665276e+01</td>\n",
       "      <td>2.879438e+00</td>\n",
       "      <td>2.924378e+02</td>\n",
       "      <td>2.893804e+00</td>\n",
       "      <td>1.787532e+00</td>\n",
       "      <td>6.167085e-01</td>\n",
       "      <td>3.283148e-01</td>\n",
       "      <td>4.283471e+00</td>\n",
       "      <td>...</td>\n",
       "      <td>5.094449e+01</td>\n",
       "      <td>-2.422660e-04</td>\n",
       "      <td>5.043758e-03</td>\n",
       "      <td>1.102973e+00</td>\n",
       "      <td>1.133226e+02</td>\n",
       "      <td>4.489459e-02</td>\n",
       "      <td>7.827190e+00</td>\n",
       "      <td>-1.845509e-04</td>\n",
       "      <td>1.991681e+00</td>\n",
       "      <td>3.867365e+00</td>\n",
       "    </tr>\n",
       "    <tr>\n",
       "      <th>std</th>\n",
       "      <td>3.924501e+04</td>\n",
       "      <td>4.121798e+04</td>\n",
       "      <td>1.122075e+01</td>\n",
       "      <td>2.015961e+00</td>\n",
       "      <td>8.140779e+01</td>\n",
       "      <td>1.505802e+00</td>\n",
       "      <td>9.370983e-01</td>\n",
       "      <td>7.798539e-01</td>\n",
       "      <td>3.249103e-01</td>\n",
       "      <td>2.335908e+00</td>\n",
       "      <td>...</td>\n",
       "      <td>1.125160e+02</td>\n",
       "      <td>2.018895e-03</td>\n",
       "      <td>4.507086e-02</td>\n",
       "      <td>1.001717e+00</td>\n",
       "      <td>2.669294e+02</td>\n",
       "      <td>4.692912e-02</td>\n",
       "      <td>1.218303e+00</td>\n",
       "      <td>1.594271e+00</td>\n",
       "      <td>5.863884e-01</td>\n",
       "      <td>7.602913e-01</td>\n",
       "    </tr>\n",
       "    <tr>\n",
       "      <th>min</th>\n",
       "      <td>1.901933e+05</td>\n",
       "      <td>2.664110e+06</td>\n",
       "      <td>0.000000e+00</td>\n",
       "      <td>0.000000e+00</td>\n",
       "      <td>1.120000e+02</td>\n",
       "      <td>6.020000e-02</td>\n",
       "      <td>3.488000e-02</td>\n",
       "      <td>3.001000e-02</td>\n",
       "      <td>0.000000e+00</td>\n",
       "      <td>0.000000e+00</td>\n",
       "      <td>...</td>\n",
       "      <td>8.786800e+00</td>\n",
       "      <td>-3.930000e-02</td>\n",
       "      <td>-8.000000e-01</td>\n",
       "      <td>0.000000e+00</td>\n",
       "      <td>0.000000e+00</td>\n",
       "      <td>0.000000e+00</td>\n",
       "      <td>3.267790e+00</td>\n",
       "      <td>-1.854054e+01</td>\n",
       "      <td>1.000000e+00</td>\n",
       "      <td>1.000000e+00</td>\n",
       "    </tr>\n",
       "    <tr>\n",
       "      <th>25%</th>\n",
       "      <td>2.483333e+05</td>\n",
       "      <td>2.739260e+06</td>\n",
       "      <td>8.216390e+00</td>\n",
       "      <td>1.170380e+00</td>\n",
       "      <td>2.250000e+02</td>\n",
       "      <td>1.956870e+00</td>\n",
       "      <td>1.125510e+00</td>\n",
       "      <td>2.336500e-01</td>\n",
       "      <td>7.297000e-02</td>\n",
       "      <td>2.358245e+00</td>\n",
       "      <td>...</td>\n",
       "      <td>1.757359e+01</td>\n",
       "      <td>-1.110000e-03</td>\n",
       "      <td>-8.240000e-03</td>\n",
       "      <td>6.324600e-01</td>\n",
       "      <td>2.287411e+01</td>\n",
       "      <td>1.667000e-02</td>\n",
       "      <td>7.154965e+00</td>\n",
       "      <td>-8.918900e-01</td>\n",
       "      <td>2.000000e+00</td>\n",
       "      <td>4.000000e+00</td>\n",
       "    </tr>\n",
       "    <tr>\n",
       "      <th>50%</th>\n",
       "      <td>2.789333e+05</td>\n",
       "      <td>2.768240e+06</td>\n",
       "      <td>1.503970e+01</td>\n",
       "      <td>2.580170e+00</td>\n",
       "      <td>3.000000e+02</td>\n",
       "      <td>2.539690e+00</td>\n",
       "      <td>1.604250e+00</td>\n",
       "      <td>4.525700e-01</td>\n",
       "      <td>2.343500e-01</td>\n",
       "      <td>4.795390e+00</td>\n",
       "      <td>...</td>\n",
       "      <td>2.773437e+01</td>\n",
       "      <td>0.000000e+00</td>\n",
       "      <td>0.000000e+00</td>\n",
       "      <td>1.000000e+00</td>\n",
       "      <td>5.545058e+01</td>\n",
       "      <td>3.725000e-02</td>\n",
       "      <td>7.599890e+00</td>\n",
       "      <td>-2.162200e-01</td>\n",
       "      <td>2.000000e+00</td>\n",
       "      <td>4.000000e+00</td>\n",
       "    </tr>\n",
       "    <tr>\n",
       "      <th>75%</th>\n",
       "      <td>3.118733e+05</td>\n",
       "      <td>2.798570e+06</td>\n",
       "      <td>2.273440e+01</td>\n",
       "      <td>4.290100e+00</td>\n",
       "      <td>3.540000e+02</td>\n",
       "      <td>3.446630e+00</td>\n",
       "      <td>2.221660e+00</td>\n",
       "      <td>7.066700e-01</td>\n",
       "      <td>4.886600e-01</td>\n",
       "      <td>6.489440e+00</td>\n",
       "      <td>...</td>\n",
       "      <td>4.970563e+01</td>\n",
       "      <td>8.300000e-04</td>\n",
       "      <td>1.789000e-02</td>\n",
       "      <td>1.414210e+00</td>\n",
       "      <td>1.166023e+02</td>\n",
       "      <td>6.002000e-02</td>\n",
       "      <td>8.127720e+00</td>\n",
       "      <td>7.567600e-01</td>\n",
       "      <td>2.000000e+00</td>\n",
       "      <td>4.000000e+00</td>\n",
       "    </tr>\n",
       "    <tr>\n",
       "      <th>max</th>\n",
       "      <td>3.552533e+05</td>\n",
       "      <td>2.862470e+06</td>\n",
       "      <td>6.605499e+01</td>\n",
       "      <td>1.045895e+01</td>\n",
       "      <td>5.800000e+02</td>\n",
       "      <td>1.460942e+01</td>\n",
       "      <td>5.630670e+00</td>\n",
       "      <td>1.952936e+01</td>\n",
       "      <td>1.795300e+00</td>\n",
       "      <td>7.902460e+00</td>\n",
       "      <td>...</td>\n",
       "      <td>1.972872e+04</td>\n",
       "      <td>5.232000e-02</td>\n",
       "      <td>1.466670e+00</td>\n",
       "      <td>3.591378e+01</td>\n",
       "      <td>2.934616e+04</td>\n",
       "      <td>1.068740e+00</td>\n",
       "      <td>1.258302e+01</td>\n",
       "      <td>3.900000e+01</td>\n",
       "      <td>4.000000e+00</td>\n",
       "      <td>5.000000e+00</td>\n",
       "    </tr>\n",
       "  </tbody>\n",
       "</table>\n",
       "<p>8 rows × 22 columns</p>\n",
       "</div>"
      ],
      "text/plain": [
       "                  x             y           DFF           DFR      Altitude  \\\n",
       "count  2.050623e+06  2.050623e+06  2.050623e+06  2.050623e+06  2.050623e+06   \n",
       "mean   2.785837e+05  2.769838e+06  1.665276e+01  2.879438e+00  2.924378e+02   \n",
       "std    3.924501e+04  4.121798e+04  1.122075e+01  2.015961e+00  8.140779e+01   \n",
       "min    1.901933e+05  2.664110e+06  0.000000e+00  0.000000e+00  1.120000e+02   \n",
       "25%    2.483333e+05  2.739260e+06  8.216390e+00  1.170380e+00  2.250000e+02   \n",
       "50%    2.789333e+05  2.768240e+06  1.503970e+01  2.580170e+00  3.000000e+02   \n",
       "75%    3.118733e+05  2.798570e+06  2.273440e+01  4.290100e+00  3.540000e+02   \n",
       "max    3.552533e+05  2.862470e+06  6.605499e+01  1.045895e+01  5.800000e+02   \n",
       "\n",
       "             Draw_D       Drain_D            LS      Lineam_D         MRVBF  \\\n",
       "count  2.050623e+06  2.050623e+06  2.050623e+06  2.050623e+06  2.050623e+06   \n",
       "mean   2.893804e+00  1.787532e+00  6.167085e-01  3.283148e-01  4.283471e+00   \n",
       "std    1.505802e+00  9.370983e-01  7.798539e-01  3.249103e-01  2.335908e+00   \n",
       "min    6.020000e-02  3.488000e-02  3.001000e-02  0.000000e+00  0.000000e+00   \n",
       "25%    1.956870e+00  1.125510e+00  2.336500e-01  7.297000e-02  2.358245e+00   \n",
       "50%    2.539690e+00  1.604250e+00  4.525700e-01  2.343500e-01  4.795390e+00   \n",
       "75%    3.446630e+00  2.221660e+00  7.066700e-01  4.886600e-01  6.489440e+00   \n",
       "max    1.460942e+01  5.630670e+00  1.952936e+01  1.795300e+00  7.902460e+00   \n",
       "\n",
       "       ...           SCA     Profile_C        Plan_C           TRI  \\\n",
       "count  ...  2.050623e+06  2.050623e+06  2.050623e+06  2.050623e+06   \n",
       "mean   ...  5.094449e+01 -2.422660e-04  5.043758e-03  1.102973e+00   \n",
       "std    ...  1.125160e+02  2.018895e-03  4.507086e-02  1.001717e+00   \n",
       "min    ...  8.786800e+00 -3.930000e-02 -8.000000e-01  0.000000e+00   \n",
       "25%    ...  1.757359e+01 -1.110000e-03 -8.240000e-03  6.324600e-01   \n",
       "50%    ...  2.773437e+01  0.000000e+00  0.000000e+00  1.000000e+00   \n",
       "75%    ...  4.970563e+01  8.300000e-04  1.789000e-02  1.414210e+00   \n",
       "max    ...  1.972872e+04  5.232000e-02  1.466670e+00  3.591378e+01   \n",
       "\n",
       "                SPI         Slope           TWI           TPI    litho_recl  \\\n",
       "count  2.050623e+06  2.050623e+06  2.050623e+06  2.050623e+06  2.050623e+06   \n",
       "mean   1.133226e+02  4.489459e-02  7.827190e+00 -1.845509e-04  1.991681e+00   \n",
       "std    2.669294e+02  4.692912e-02  1.218303e+00  1.594271e+00  5.863884e-01   \n",
       "min    0.000000e+00  0.000000e+00  3.267790e+00 -1.854054e+01  1.000000e+00   \n",
       "25%    2.287411e+01  1.667000e-02  7.154965e+00 -8.918900e-01  2.000000e+00   \n",
       "50%    5.545058e+01  3.725000e-02  7.599890e+00 -2.162200e-01  2.000000e+00   \n",
       "75%    1.166023e+02  6.002000e-02  8.127720e+00  7.567600e-01  2.000000e+00   \n",
       "max    2.934616e+04  1.068740e+00  1.258302e+01  3.900000e+01  4.000000e+00   \n",
       "\n",
       "         geomorph_R  \n",
       "count  2.050623e+06  \n",
       "mean   3.867365e+00  \n",
       "std    7.602913e-01  \n",
       "min    1.000000e+00  \n",
       "25%    4.000000e+00  \n",
       "50%    4.000000e+00  \n",
       "75%    4.000000e+00  \n",
       "max    5.000000e+00  \n",
       "\n",
       "[8 rows x 22 columns]"
      ]
     },
     "execution_count": 81,
     "metadata": {},
     "output_type": "execute_result"
    }
   ],
   "source": [
    "unlabeled.describe()"
   ]
  },
  {
   "cell_type": "code",
   "execution_count": 52,
   "metadata": {},
   "outputs": [
    {
     "name": "stdout",
     "output_type": "stream",
     "text": [
      "[ 1.24e+01  8.60e+00  5.41e+02  4.34e+00  1.67e-01  1.75e+00  0.00e+00\n",
      "  1.64e-01  2.06e-01  4.00e+00  1.76e+01 -9.80e-04 -8.40e-04  2.49e+00\n",
      "  2.56e+02  1.29e-01  6.26e+00  6.49e-01  2.00e+00  2.00e+00]\n"
     ]
    }
   ],
   "source": [
    "print(x_unl[0])"
   ]
  },
  {
   "cell_type": "code",
   "execution_count": 53,
   "metadata": {},
   "outputs": [],
   "source": [
    "x_unl = sc.transform(x_unl)"
   ]
  },
  {
   "cell_type": "code",
   "execution_count": 54,
   "metadata": {},
   "outputs": [
    {
     "name": "stdout",
     "output_type": "stream",
     "text": [
      "[1 1 1 2 2]\n"
     ]
    }
   ],
   "source": [
    "\n",
    "label = classifier.predict(x_unl)\n",
    "print(label[0:5])"
   ]
  },
  {
   "cell_type": "code",
   "execution_count": 55,
   "metadata": {},
   "outputs": [
    {
     "data": {
      "text/html": [
       "<div>\n",
       "<style scoped>\n",
       "    .dataframe tbody tr th:only-of-type {\n",
       "        vertical-align: middle;\n",
       "    }\n",
       "\n",
       "    .dataframe tbody tr th {\n",
       "        vertical-align: top;\n",
       "    }\n",
       "\n",
       "    .dataframe thead th {\n",
       "        text-align: right;\n",
       "    }\n",
       "</style>\n",
       "<table border=\"1\" class=\"dataframe\">\n",
       "  <thead>\n",
       "    <tr style=\"text-align: right;\">\n",
       "      <th></th>\n",
       "      <th>x</th>\n",
       "      <th>y</th>\n",
       "    </tr>\n",
       "  </thead>\n",
       "  <tbody>\n",
       "    <tr>\n",
       "      <th>0</th>\n",
       "      <td>258143.343169</td>\n",
       "      <td>2.664110e+06</td>\n",
       "    </tr>\n",
       "    <tr>\n",
       "      <th>1</th>\n",
       "      <td>258233.343169</td>\n",
       "      <td>2.664110e+06</td>\n",
       "    </tr>\n",
       "    <tr>\n",
       "      <th>2</th>\n",
       "      <td>258323.343169</td>\n",
       "      <td>2.664110e+06</td>\n",
       "    </tr>\n",
       "    <tr>\n",
       "      <th>3</th>\n",
       "      <td>258413.343169</td>\n",
       "      <td>2.664110e+06</td>\n",
       "    </tr>\n",
       "    <tr>\n",
       "      <th>4</th>\n",
       "      <td>258503.343169</td>\n",
       "      <td>2.664110e+06</td>\n",
       "    </tr>\n",
       "  </tbody>\n",
       "</table>\n",
       "</div>"
      ],
      "text/plain": [
       "               x             y\n",
       "0  258143.343169  2.664110e+06\n",
       "1  258233.343169  2.664110e+06\n",
       "2  258323.343169  2.664110e+06\n",
       "3  258413.343169  2.664110e+06\n",
       "4  258503.343169  2.664110e+06"
      ]
     },
     "execution_count": 55,
     "metadata": {},
     "output_type": "execute_result"
    }
   ],
   "source": [
    "x_coordinates.head()"
   ]
  },
  {
   "cell_type": "code",
   "execution_count": 56,
   "metadata": {},
   "outputs": [
    {
     "name": "stderr",
     "output_type": "stream",
     "text": [
      "C:\\Users\\Bihari\\Anaconda3\\lib\\site-packages\\ipykernel_launcher.py:1: SettingWithCopyWarning: \n",
      "A value is trying to be set on a copy of a slice from a DataFrame.\n",
      "Try using .loc[row_indexer,col_indexer] = value instead\n",
      "\n",
      "See the caveats in the documentation: http://pandas.pydata.org/pandas-docs/stable/indexing.html#indexing-view-versus-copy\n",
      "  \"\"\"Entry point for launching an IPython kernel.\n"
     ]
    },
    {
     "data": {
      "text/html": [
       "<div>\n",
       "<style scoped>\n",
       "    .dataframe tbody tr th:only-of-type {\n",
       "        vertical-align: middle;\n",
       "    }\n",
       "\n",
       "    .dataframe tbody tr th {\n",
       "        vertical-align: top;\n",
       "    }\n",
       "\n",
       "    .dataframe thead th {\n",
       "        text-align: right;\n",
       "    }\n",
       "</style>\n",
       "<table border=\"1\" class=\"dataframe\">\n",
       "  <thead>\n",
       "    <tr style=\"text-align: right;\">\n",
       "      <th></th>\n",
       "      <th>x</th>\n",
       "      <th>y</th>\n",
       "      <th>well_class</th>\n",
       "    </tr>\n",
       "  </thead>\n",
       "  <tbody>\n",
       "    <tr>\n",
       "      <th>0</th>\n",
       "      <td>258143.343169</td>\n",
       "      <td>2.664110e+06</td>\n",
       "      <td>1</td>\n",
       "    </tr>\n",
       "    <tr>\n",
       "      <th>1</th>\n",
       "      <td>258233.343169</td>\n",
       "      <td>2.664110e+06</td>\n",
       "      <td>1</td>\n",
       "    </tr>\n",
       "    <tr>\n",
       "      <th>2</th>\n",
       "      <td>258323.343169</td>\n",
       "      <td>2.664110e+06</td>\n",
       "      <td>1</td>\n",
       "    </tr>\n",
       "    <tr>\n",
       "      <th>3</th>\n",
       "      <td>258413.343169</td>\n",
       "      <td>2.664110e+06</td>\n",
       "      <td>2</td>\n",
       "    </tr>\n",
       "    <tr>\n",
       "      <th>4</th>\n",
       "      <td>258503.343169</td>\n",
       "      <td>2.664110e+06</td>\n",
       "      <td>2</td>\n",
       "    </tr>\n",
       "  </tbody>\n",
       "</table>\n",
       "</div>"
      ],
      "text/plain": [
       "               x             y  well_class\n",
       "0  258143.343169  2.664110e+06           1\n",
       "1  258233.343169  2.664110e+06           1\n",
       "2  258323.343169  2.664110e+06           1\n",
       "3  258413.343169  2.664110e+06           2\n",
       "4  258503.343169  2.664110e+06           2"
      ]
     },
     "execution_count": 56,
     "metadata": {},
     "output_type": "execute_result"
    }
   ],
   "source": [
    "x_coordinates['well_class'] = label\n",
    "\n",
    "x_coordinates.head()"
   ]
  },
  {
   "cell_type": "code",
   "execution_count": 57,
   "metadata": {},
   "outputs": [
    {
     "name": "stdout",
     "output_type": "stream",
     "text": [
      "1    1057059\n",
      "2     393602\n",
      "3     302650\n",
      "4     297312\n",
      "Name: well_class, dtype: int64\n"
     ]
    },
    {
     "data": {
      "text/plain": [
       "<matplotlib.axes._subplots.AxesSubplot at 0x1b977c92940>"
      ]
     },
     "execution_count": 57,
     "metadata": {},
     "output_type": "execute_result"
    },
    {
     "data": {
      "image/png": "[encoded data removed]",
      "text/plain": [
       "<Figure size 432x288 with 1 Axes>"
      ]
     },
     "metadata": {
      "needs_background": "light"
     },
     "output_type": "display_data"
    }
   ],
   "source": [
    "print(pd.value_counts(x_coordinates['well_class']))\n",
    "pd.value_counts(x_coordinates['well_class']).plot.bar()"
   ]
  },
  {
   "cell_type": "code",
   "execution_count": 58,
   "metadata": {},
   "outputs": [],
   "source": [
    "#exporting the data\n",
    "x_coordinates.to_csv('prediction_KNN_agm.csv')"
   ]
  },
  {
   "cell_type": "code",
   "execution_count": null,
   "metadata": {},
   "outputs": [],
   "source": []
  },
  {
   "cell_type": "markdown",
   "metadata": {},
   "source": [
    "# Grid search (in colab only)"
   ]
  },
  {
   "cell_type": "code",
   "execution_count": null,
   "metadata": {},
   "outputs": [],
   "source": [
    "from sklearn.model_selection import GridSearchCV\n",
    "\n",
    "alg =['auto','ball_tree','kd_tree','brute']\n",
    "ls = list(np.arange(10,100))\n",
    "met = ['minkowski','euclidean','manhattan','seuclidean']\n",
    "nngb= list(np.arange(1,30,1))\n",
    "p = list(np.arange(1,5,1))\n",
    "\n",
    "parameters = [{'algorithm': alg, 'leaf_size': ls, 'metric': met,'n_neighbors': nngb, 'p': p}]\n",
    "\n",
    "grid_search = GridSearchCV(estimator = classifier,\n",
    "                           param_grid = parameters,\n",
    "                           scoring = 'accuracy',\n",
    "                           cv = 10,\n",
    "                           n_jobs = -1)\n",
    "grid_search = grid_search.fit(x_train, y_train)\n",
    "best_accuracy = grid_search.best_score_\n",
    "best_parameters = grid_search.best_params_\n",
    "print(\"Best Accuracy: {:.2f} %\".format(best_accuracy*100))\n",
    "print(\"Best Parameters:\", best_parameters)"
   ]
  }
 ],
 "metadata": {
  "colab": {
   "authorship_tag": "ABX9TyNxDRfLvKVBN9HjXcmlURF3",
   "collapsed_sections": [],
   "name": "data_preprocessing_tools.ipynb",
   "provenance": [],
   "toc_visible": true
  },
  "kernelspec": {
   "display_name": "Python 3",
   "language": "python",
   "name": "python3"
  },
  "language_info": {
   "codemirror_mode": {
    "name": "ipython",
    "version": 3
   },
   "file_extension": ".py",
   "mimetype": "text/x-python",
   "name": "python",
   "nbconvert_exporter": "python",
   "pygments_lexer": "ipython3",
   "version": "3.7.3"
  }
 },
 "nbformat": 4,
 "nbformat_minor": 1
}
