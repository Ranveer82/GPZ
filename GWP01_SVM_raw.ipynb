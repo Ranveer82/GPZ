{
 "cells": [
  {
   "cell_type": "markdown",
   "metadata": {
    "colab_type": "text",
    "id": "37puETfgRzzg"
   },
   "source": [
    "# Data Preprocessing Tools"
   ]
  },
  {
   "cell_type": "markdown",
   "metadata": {
    "colab_type": "text",
    "id": "EoRP98MpR-qj"
   },
   "source": [
    "## Importing the libraries"
   ]
  },
  {
   "cell_type": "code",
   "execution_count": 1,
   "metadata": {
    "colab": {},
    "colab_type": "code",
    "id": "N-qiINBQSK2g"
   },
   "outputs": [],
   "source": [
    "import numpy as np\n",
    "import matplotlib.pyplot as plt\n",
    "import pandas as pd"
   ]
  },
  {
   "cell_type": "markdown",
   "metadata": {
    "colab_type": "text",
    "id": "RopL7tUZSQkT"
   },
   "source": [
    "## Importing the dataset"
   ]
  },
  {
   "cell_type": "code",
   "execution_count": 2,
   "metadata": {
    "colab": {},
    "colab_type": "code",
    "id": "WwEPNDWySTKm"
   },
   "outputs": [],
   "source": [
    "dataset = pd.read_csv('Train_Data.csv')"
   ]
  },
  {
   "cell_type": "code",
   "execution_count": 3,
   "metadata": {},
   "outputs": [],
   "source": [
    "x = dataset.iloc[:179, 2:22].values\n",
    "#y_real = dataset.iloc[:, -2].values\n",
    "y_class = dataset.iloc[:179, -1].values"
   ]
  },
  {
   "cell_type": "code",
   "execution_count": 4,
   "metadata": {},
   "outputs": [
    {
     "data": {
      "text/html": [
       "<div>\n",
       "<style scoped>\n",
       "    .dataframe tbody tr th:only-of-type {\n",
       "        vertical-align: middle;\n",
       "    }\n",
       "\n",
       "    .dataframe tbody tr th {\n",
       "        vertical-align: top;\n",
       "    }\n",
       "\n",
       "    .dataframe thead th {\n",
       "        text-align: right;\n",
       "    }\n",
       "</style>\n",
       "<table border=\"1\" class=\"dataframe\">\n",
       "  <thead>\n",
       "    <tr style=\"text-align: right;\">\n",
       "      <th></th>\n",
       "      <th>x</th>\n",
       "      <th>y</th>\n",
       "      <th>DFF</th>\n",
       "      <th>DFR</th>\n",
       "      <th>Alititude</th>\n",
       "      <th>Draw_D</th>\n",
       "      <th>Drain_D</th>\n",
       "      <th>LS</th>\n",
       "      <th>Lineam_D</th>\n",
       "      <th>MRVBF</th>\n",
       "      <th>...</th>\n",
       "      <th>Plan_C</th>\n",
       "      <th>TRI</th>\n",
       "      <th>SPI</th>\n",
       "      <th>Slope</th>\n",
       "      <th>TWI</th>\n",
       "      <th>TPI</th>\n",
       "      <th>litho_recl</th>\n",
       "      <th>geomorph_R</th>\n",
       "      <th>WellYield</th>\n",
       "      <th>WellClass</th>\n",
       "    </tr>\n",
       "  </thead>\n",
       "  <tbody>\n",
       "    <tr>\n",
       "      <th>count</th>\n",
       "      <td>208.000000</td>\n",
       "      <td>2.080000e+02</td>\n",
       "      <td>208.000000</td>\n",
       "      <td>208.000000</td>\n",
       "      <td>208.000000</td>\n",
       "      <td>208.000000</td>\n",
       "      <td>208.000000</td>\n",
       "      <td>208.000000</td>\n",
       "      <td>208.000000</td>\n",
       "      <td>208.000000</td>\n",
       "      <td>...</td>\n",
       "      <td>208.000000</td>\n",
       "      <td>208.000000</td>\n",
       "      <td>208.000000</td>\n",
       "      <td>208.000000</td>\n",
       "      <td>208.000000</td>\n",
       "      <td>208.000000</td>\n",
       "      <td>208.000000</td>\n",
       "      <td>208.000000</td>\n",
       "      <td>208.000000</td>\n",
       "      <td>208.000000</td>\n",
       "    </tr>\n",
       "    <tr>\n",
       "      <th>mean</th>\n",
       "      <td>271259.545123</td>\n",
       "      <td>2.766981e+06</td>\n",
       "      <td>15.763628</td>\n",
       "      <td>2.879436</td>\n",
       "      <td>298.168269</td>\n",
       "      <td>3.067833</td>\n",
       "      <td>1.863424</td>\n",
       "      <td>0.540355</td>\n",
       "      <td>0.567670</td>\n",
       "      <td>4.200671</td>\n",
       "      <td>...</td>\n",
       "      <td>0.005076</td>\n",
       "      <td>1.019423</td>\n",
       "      <td>92.352994</td>\n",
       "      <td>0.040885</td>\n",
       "      <td>7.751691</td>\n",
       "      <td>0.020054</td>\n",
       "      <td>2.019231</td>\n",
       "      <td>3.879808</td>\n",
       "      <td>2.822452</td>\n",
       "      <td>1.956731</td>\n",
       "    </tr>\n",
       "    <tr>\n",
       "      <th>std</th>\n",
       "      <td>32991.423662</td>\n",
       "      <td>4.803321e+04</td>\n",
       "      <td>10.989323</td>\n",
       "      <td>1.920751</td>\n",
       "      <td>83.278159</td>\n",
       "      <td>1.722988</td>\n",
       "      <td>0.819644</td>\n",
       "      <td>0.381257</td>\n",
       "      <td>0.510052</td>\n",
       "      <td>2.025785</td>\n",
       "      <td>...</td>\n",
       "      <td>0.014306</td>\n",
       "      <td>0.540285</td>\n",
       "      <td>102.044752</td>\n",
       "      <td>0.024791</td>\n",
       "      <td>0.945616</td>\n",
       "      <td>0.796296</td>\n",
       "      <td>0.528982</td>\n",
       "      <td>0.651995</td>\n",
       "      <td>4.309827</td>\n",
       "      <td>1.151790</td>\n",
       "    </tr>\n",
       "    <tr>\n",
       "      <th>min</th>\n",
       "      <td>217733.343200</td>\n",
       "      <td>2.684480e+06</td>\n",
       "      <td>0.000000</td>\n",
       "      <td>0.000000</td>\n",
       "      <td>0.000000</td>\n",
       "      <td>0.000000</td>\n",
       "      <td>0.000000</td>\n",
       "      <td>0.000000</td>\n",
       "      <td>0.000000</td>\n",
       "      <td>0.000000</td>\n",
       "      <td>...</td>\n",
       "      <td>-0.031950</td>\n",
       "      <td>0.000000</td>\n",
       "      <td>0.000000</td>\n",
       "      <td>0.000000</td>\n",
       "      <td>0.000000</td>\n",
       "      <td>-2.018020</td>\n",
       "      <td>1.000000</td>\n",
       "      <td>1.000000</td>\n",
       "      <td>-0.010000</td>\n",
       "      <td>1.000000</td>\n",
       "    </tr>\n",
       "    <tr>\n",
       "      <th>25%</th>\n",
       "      <td>245543.343200</td>\n",
       "      <td>2.720817e+06</td>\n",
       "      <td>6.057310</td>\n",
       "      <td>1.368395</td>\n",
       "      <td>231.750000</td>\n",
       "      <td>1.899078</td>\n",
       "      <td>1.254515</td>\n",
       "      <td>0.335202</td>\n",
       "      <td>0.233272</td>\n",
       "      <td>2.477153</td>\n",
       "      <td>...</td>\n",
       "      <td>-0.004618</td>\n",
       "      <td>0.672262</td>\n",
       "      <td>43.056400</td>\n",
       "      <td>0.025315</td>\n",
       "      <td>7.295340</td>\n",
       "      <td>-0.491742</td>\n",
       "      <td>2.000000</td>\n",
       "      <td>4.000000</td>\n",
       "      <td>0.590000</td>\n",
       "      <td>1.000000</td>\n",
       "    </tr>\n",
       "    <tr>\n",
       "      <th>50%</th>\n",
       "      <td>259853.343200</td>\n",
       "      <td>2.761880e+06</td>\n",
       "      <td>14.691465</td>\n",
       "      <td>2.670015</td>\n",
       "      <td>307.000000</td>\n",
       "      <td>2.725835</td>\n",
       "      <td>1.735150</td>\n",
       "      <td>0.478565</td>\n",
       "      <td>0.484415</td>\n",
       "      <td>4.491420</td>\n",
       "      <td>...</td>\n",
       "      <td>0.004465</td>\n",
       "      <td>0.956615</td>\n",
       "      <td>68.080150</td>\n",
       "      <td>0.037840</td>\n",
       "      <td>7.665435</td>\n",
       "      <td>-0.109610</td>\n",
       "      <td>2.000000</td>\n",
       "      <td>4.000000</td>\n",
       "      <td>0.890000</td>\n",
       "      <td>1.000000</td>\n",
       "    </tr>\n",
       "    <tr>\n",
       "      <th>75%</th>\n",
       "      <td>291938.343200</td>\n",
       "      <td>2.815902e+06</td>\n",
       "      <td>22.969562</td>\n",
       "      <td>3.993440</td>\n",
       "      <td>369.000000</td>\n",
       "      <td>3.980703</td>\n",
       "      <td>2.367587</td>\n",
       "      <td>0.633900</td>\n",
       "      <td>0.789645</td>\n",
       "      <td>5.879145</td>\n",
       "      <td>...</td>\n",
       "      <td>0.014820</td>\n",
       "      <td>1.266533</td>\n",
       "      <td>101.582118</td>\n",
       "      <td>0.049680</td>\n",
       "      <td>8.099013</td>\n",
       "      <td>0.476723</td>\n",
       "      <td>2.000000</td>\n",
       "      <td>4.000000</td>\n",
       "      <td>3.532500</td>\n",
       "      <td>3.000000</td>\n",
       "    </tr>\n",
       "    <tr>\n",
       "      <th>max</th>\n",
       "      <td>351293.343200</td>\n",
       "      <td>2.860340e+06</td>\n",
       "      <td>50.570830</td>\n",
       "      <td>8.219930</td>\n",
       "      <td>507.000000</td>\n",
       "      <td>14.297670</td>\n",
       "      <td>4.817490</td>\n",
       "      <td>3.924550</td>\n",
       "      <td>5.041990</td>\n",
       "      <td>7.633190</td>\n",
       "      <td>...</td>\n",
       "      <td>0.047860</td>\n",
       "      <td>4.300950</td>\n",
       "      <td>759.138790</td>\n",
       "      <td>0.219110</td>\n",
       "      <td>10.430590</td>\n",
       "      <td>2.522520</td>\n",
       "      <td>4.000000</td>\n",
       "      <td>5.000000</td>\n",
       "      <td>20.000000</td>\n",
       "      <td>4.000000</td>\n",
       "    </tr>\n",
       "  </tbody>\n",
       "</table>\n",
       "<p>8 rows × 24 columns</p>\n",
       "</div>"
      ],
      "text/plain": [
       "                   x             y         DFF         DFR   Alititude  \\\n",
       "count     208.000000  2.080000e+02  208.000000  208.000000  208.000000   \n",
       "mean   271259.545123  2.766981e+06   15.763628    2.879436  298.168269   \n",
       "std     32991.423662  4.803321e+04   10.989323    1.920751   83.278159   \n",
       "min    217733.343200  2.684480e+06    0.000000    0.000000    0.000000   \n",
       "25%    245543.343200  2.720817e+06    6.057310    1.368395  231.750000   \n",
       "50%    259853.343200  2.761880e+06   14.691465    2.670015  307.000000   \n",
       "75%    291938.343200  2.815902e+06   22.969562    3.993440  369.000000   \n",
       "max    351293.343200  2.860340e+06   50.570830    8.219930  507.000000   \n",
       "\n",
       "           Draw_D     Drain_D          LS    Lineam_D       MRVBF  ...  \\\n",
       "count  208.000000  208.000000  208.000000  208.000000  208.000000  ...   \n",
       "mean     3.067833    1.863424    0.540355    0.567670    4.200671  ...   \n",
       "std      1.722988    0.819644    0.381257    0.510052    2.025785  ...   \n",
       "min      0.000000    0.000000    0.000000    0.000000    0.000000  ...   \n",
       "25%      1.899078    1.254515    0.335202    0.233272    2.477153  ...   \n",
       "50%      2.725835    1.735150    0.478565    0.484415    4.491420  ...   \n",
       "75%      3.980703    2.367587    0.633900    0.789645    5.879145  ...   \n",
       "max     14.297670    4.817490    3.924550    5.041990    7.633190  ...   \n",
       "\n",
       "           Plan_C         TRI         SPI       Slope         TWI         TPI  \\\n",
       "count  208.000000  208.000000  208.000000  208.000000  208.000000  208.000000   \n",
       "mean     0.005076    1.019423   92.352994    0.040885    7.751691    0.020054   \n",
       "std      0.014306    0.540285  102.044752    0.024791    0.945616    0.796296   \n",
       "min     -0.031950    0.000000    0.000000    0.000000    0.000000   -2.018020   \n",
       "25%     -0.004618    0.672262   43.056400    0.025315    7.295340   -0.491742   \n",
       "50%      0.004465    0.956615   68.080150    0.037840    7.665435   -0.109610   \n",
       "75%      0.014820    1.266533  101.582118    0.049680    8.099013    0.476723   \n",
       "max      0.047860    4.300950  759.138790    0.219110   10.430590    2.522520   \n",
       "\n",
       "       litho_recl  geomorph_R   WellYield   WellClass  \n",
       "count  208.000000  208.000000  208.000000  208.000000  \n",
       "mean     2.019231    3.879808    2.822452    1.956731  \n",
       "std      0.528982    0.651995    4.309827    1.151790  \n",
       "min      1.000000    1.000000   -0.010000    1.000000  \n",
       "25%      2.000000    4.000000    0.590000    1.000000  \n",
       "50%      2.000000    4.000000    0.890000    1.000000  \n",
       "75%      2.000000    4.000000    3.532500    3.000000  \n",
       "max      4.000000    5.000000   20.000000    4.000000  \n",
       "\n",
       "[8 rows x 24 columns]"
      ]
     },
     "execution_count": 4,
     "metadata": {},
     "output_type": "execute_result"
    }
   ],
   "source": [
    "dataset.describe()"
   ]
  },
  {
   "cell_type": "code",
   "execution_count": 5,
   "metadata": {},
   "outputs": [
    {
     "name": "stdout",
     "output_type": "stream",
     "text": [
      "1    106\n",
      "2     41\n",
      "4     36\n",
      "3     25\n",
      "Name: WellClass, dtype: int64\n"
     ]
    },
    {
     "data": {
      "text/plain": [
       "<matplotlib.axes._subplots.AxesSubplot at 0x1be9dc8ddd8>"
      ]
     },
     "execution_count": 5,
     "metadata": {},
     "output_type": "execute_result"
    },
    {
     "data": {
      "image/png": "[encoded data removed]",
      "text/plain": [
       "<Figure size 432x288 with 1 Axes>"
      ]
     },
     "metadata": {
      "needs_background": "light"
     },
     "output_type": "display_data"
    }
   ],
   "source": [
    "print(pd.value_counts(dataset['WellClass']))\n",
    "pd.value_counts(dataset['WellClass']).plot.bar()\n"
   ]
  },
  {
   "cell_type": "markdown",
   "metadata": {
    "colab_type": "text",
    "id": "qb_vcgm3qZKW"
   },
   "source": [
    "## Splitting the dataset into the Training set and Test set"
   ]
  },
  {
   "cell_type": "code",
   "execution_count": 6,
   "metadata": {},
   "outputs": [],
   "source": [
    "from sklearn.model_selection import train_test_split\n",
    "x_train, x_test, y_train, y_test = train_test_split(x, y_class, test_size= 0.2)"
   ]
  },
  {
   "cell_type": "markdown",
   "metadata": {},
   "source": [
    "# Feature Scaling"
   ]
  },
  {
   "cell_type": "code",
   "execution_count": 7,
   "metadata": {},
   "outputs": [],
   "source": [
    "from sklearn.preprocessing import StandardScaler\n",
    "sc = StandardScaler()\n",
    "x_train = sc.fit_transform(x_train)\n",
    "x_test = sc.transform(x_test)"
   ]
  },
  {
   "cell_type": "markdown",
   "metadata": {},
   "source": [
    "### check"
   ]
  },
  {
   "cell_type": "code",
   "execution_count": 8,
   "metadata": {},
   "outputs": [
    {
     "data": {
      "image/png": "[encoded data removed]",
      "text/plain": [
       "<Figure size 432x288 with 1 Axes>"
      ]
     },
     "metadata": {
      "needs_background": "light"
     },
     "output_type": "display_data"
    }
   ],
   "source": [
    "from sklearn.svm import SVC\n",
    "from sklearn.metrics import  accuracy_score\n",
    "from sklearn.preprocessing import StandardScaler\n",
    "acc = []\n",
    "for i in range(1,10):\n",
    "   \n",
    "        \n",
    "    from sklearn.model_selection import train_test_split\n",
    "    x_train, x_test, y_train, y_test = train_test_split(x, y_class, test_size= 0.2, random_state = i)\n",
    "    sc = StandardScaler()\n",
    "    x_train = sc.fit_transform(x_train)\n",
    "    x_test = sc.transform(x_test)\n",
    "    classifier = SVC(kernel = 'poly',C=0.1,degree = 2, gamma= 0.1)\n",
    "    classifier.fit(x_train, y_train)\n",
    "    y_pred = classifier.predict(x_test)\n",
    "    acc.append(accuracy_score(y_test, y_pred))\n",
    "\n",
    "plt.plot(range(1,10),acc, c = 'blue')\n",
    "plt.xlabel('hyperparameter (no of trees)')\n",
    "plt.ylabel('Accuracy')\n",
    "plt.show()"
   ]
  },
  {
   "cell_type": "markdown",
   "metadata": {},
   "source": [
    "# Training SVM"
   ]
  },
  {
   "cell_type": "code",
   "execution_count": 8,
   "metadata": {},
   "outputs": [
    {
     "data": {
      "text/plain": [
       "SVC(C=0.1, cache_size=200, class_weight=None, coef0=0.0,\n",
       "  decision_function_shape='ovr', degree=2, gamma=0.1, kernel='poly',\n",
       "  max_iter=-1, probability=False, random_state=None, shrinking=True,\n",
       "  tol=0.001, verbose=False)"
      ]
     },
     "execution_count": 8,
     "metadata": {},
     "output_type": "execute_result"
    }
   ],
   "source": [
    "from sklearn.svm import SVC\n",
    "classifier = SVC(kernel = 'poly',C=0.1,degree = 2, gamma= 0.1)\n",
    "classifier.fit(x_train, y_train)"
   ]
  },
  {
   "cell_type": "markdown",
   "metadata": {},
   "source": [
    "# Predicting Test Result"
   ]
  },
  {
   "cell_type": "code",
   "execution_count": 9,
   "metadata": {},
   "outputs": [
    {
     "name": "stdout",
     "output_type": "stream",
     "text": [
      "[[1 2]\n",
      " [1 4]\n",
      " [1 3]\n",
      " [1 1]\n",
      " [1 1]\n",
      " [1 1]\n",
      " [1 4]\n",
      " [1 3]\n",
      " [1 3]\n",
      " [2 2]\n",
      " [1 3]\n",
      " [1 1]\n",
      " [1 1]\n",
      " [1 3]\n",
      " [1 2]\n",
      " [1 1]\n",
      " [1 1]\n",
      " [1 4]\n",
      " [1 1]\n",
      " [1 3]\n",
      " [1 1]\n",
      " [1 2]\n",
      " [1 1]\n",
      " [1 4]\n",
      " [1 1]\n",
      " [1 1]\n",
      " [1 1]\n",
      " [1 1]\n",
      " [1 1]\n",
      " [1 3]\n",
      " [1 4]\n",
      " [1 1]\n",
      " [1 1]\n",
      " [1 1]\n",
      " [1 4]\n",
      " [1 3]]\n"
     ]
    }
   ],
   "source": [
    "y_pred = classifier.predict(x_test)\n",
    "np.set_printoptions(precision=2)\n",
    "print(np.concatenate((y_pred.reshape(len(y_pred),1), y_test.reshape(len(y_test),1)),1))"
   ]
  },
  {
   "cell_type": "markdown",
   "metadata": {},
   "source": [
    "# Evaluating accuracy"
   ]
  },
  {
   "cell_type": "code",
   "execution_count": 10,
   "metadata": {},
   "outputs": [
    {
     "name": "stdout",
     "output_type": "stream",
     "text": [
      "Confusion Matrix: \n",
      "\n",
      "[[18  0  0  0]\n",
      " [ 3  1  0  0]\n",
      " [ 8  0  0  0]\n",
      " [ 6  0  0  0]]\n",
      "\n",
      "overall Accuracy: 52.78 %\n",
      "              precision    recall  f1-score   support\n",
      "\n",
      "           1       0.51      1.00      0.68        18\n",
      "           2       1.00      0.25      0.40         4\n",
      "           3       0.00      0.00      0.00         8\n",
      "           4       0.00      0.00      0.00         6\n",
      "\n",
      "   micro avg       0.53      0.53      0.53        36\n",
      "   macro avg       0.38      0.31      0.27        36\n",
      "weighted avg       0.37      0.53      0.38        36\n",
      "\n",
      "kappa : 0.076\n"
     ]
    },
    {
     "name": "stderr",
     "output_type": "stream",
     "text": [
      "C:\\ProgramData\\Anaconda3\\lib\\site-packages\\sklearn\\metrics\\classification.py:1143: UndefinedMetricWarning: Precision and F-score are ill-defined and being set to 0.0 in labels with no predicted samples.\n",
      "  'precision', 'predicted', average, warn_for)\n"
     ]
    }
   ],
   "source": [
    "from sklearn.metrics import confusion_matrix, accuracy_score,classification_report, cohen_kappa_score\n",
    "cm = confusion_matrix(y_test, y_pred)\n",
    "cr = classification_report(y_test, y_pred)\n",
    "print('Confusion Matrix: \\n')\n",
    "print(cm)\n",
    "\n",
    "print('\\noverall Accuracy: {:0.2f} %'.format(accuracy_score(y_test, y_pred)*100))  \n",
    "print(cr)\n",
    "\n",
    "k= cohen_kappa_score(y_test, y_pred)\n",
    "print('kappa : %0.3f'%k)"
   ]
  },
  {
   "cell_type": "markdown",
   "metadata": {},
   "source": [
    "# Cross Validation"
   ]
  },
  {
   "cell_type": "code",
   "execution_count": 11,
   "metadata": {},
   "outputs": [
    {
     "name": "stdout",
     "output_type": "stream",
     "text": [
      "Accuracy: 42.06 %\n",
      "Standard Deviation: 4.11 %\n"
     ]
    }
   ],
   "source": [
    "from sklearn.model_selection import cross_val_score\n",
    "accuracies = cross_val_score(estimator=classifier, X = x_train , y = y_train, cv = 10)\n",
    "\n",
    "print('Accuracy: {:0.2f} %'.format(accuracies.mean()*100))\n",
    "print('Standard Deviation: {:0.2f} %'.format(accuracies.std()*100))"
   ]
  },
  {
   "cell_type": "markdown",
   "metadata": {},
   "source": [
    "# predicting unlabled data"
   ]
  },
  {
   "cell_type": "code",
   "execution_count": 29,
   "metadata": {},
   "outputs": [
    {
     "data": {
      "text/html": [
       "<div>\n",
       "<style scoped>\n",
       "    .dataframe tbody tr th:only-of-type {\n",
       "        vertical-align: middle;\n",
       "    }\n",
       "\n",
       "    .dataframe tbody tr th {\n",
       "        vertical-align: top;\n",
       "    }\n",
       "\n",
       "    .dataframe thead th {\n",
       "        text-align: right;\n",
       "    }\n",
       "</style>\n",
       "<table border=\"1\" class=\"dataframe\">\n",
       "  <thead>\n",
       "    <tr style=\"text-align: right;\">\n",
       "      <th></th>\n",
       "      <th>x</th>\n",
       "      <th>y</th>\n",
       "      <th>DFF</th>\n",
       "      <th>DFR</th>\n",
       "      <th>Altitude</th>\n",
       "      <th>Draw_D</th>\n",
       "      <th>Drain_D</th>\n",
       "      <th>LS</th>\n",
       "      <th>Lineam_D</th>\n",
       "      <th>MRVBF</th>\n",
       "      <th>...</th>\n",
       "      <th>SCA</th>\n",
       "      <th>Profile_C</th>\n",
       "      <th>Plan_C</th>\n",
       "      <th>TRI</th>\n",
       "      <th>SPI</th>\n",
       "      <th>Slope</th>\n",
       "      <th>TWI</th>\n",
       "      <th>TPI</th>\n",
       "      <th>litho_recl</th>\n",
       "      <th>geomorph_R</th>\n",
       "    </tr>\n",
       "  </thead>\n",
       "  <tbody>\n",
       "    <tr>\n",
       "      <th>0</th>\n",
       "      <td>258143.343169</td>\n",
       "      <td>2.664110e+06</td>\n",
       "      <td>12.36240</td>\n",
       "      <td>8.60310</td>\n",
       "      <td>541.0</td>\n",
       "      <td>4.33529</td>\n",
       "      <td>0.16722</td>\n",
       "      <td>1.75086</td>\n",
       "      <td>0.0</td>\n",
       "      <td>0.16393</td>\n",
       "      <td>...</td>\n",
       "      <td>17.57359</td>\n",
       "      <td>-0.00098</td>\n",
       "      <td>-0.00084</td>\n",
       "      <td>2.48998</td>\n",
       "      <td>256.40796</td>\n",
       "      <td>0.12944</td>\n",
       "      <td>6.25581</td>\n",
       "      <td>0.64865</td>\n",
       "      <td>2.0</td>\n",
       "      <td>2.0</td>\n",
       "    </tr>\n",
       "    <tr>\n",
       "      <th>1</th>\n",
       "      <td>258233.343169</td>\n",
       "      <td>2.664110e+06</td>\n",
       "      <td>12.27924</td>\n",
       "      <td>8.59698</td>\n",
       "      <td>536.0</td>\n",
       "      <td>4.33185</td>\n",
       "      <td>0.16012</td>\n",
       "      <td>0.47551</td>\n",
       "      <td>0.0</td>\n",
       "      <td>1.84461</td>\n",
       "      <td>...</td>\n",
       "      <td>40.00359</td>\n",
       "      <td>-0.00244</td>\n",
       "      <td>-0.02385</td>\n",
       "      <td>1.00000</td>\n",
       "      <td>141.52002</td>\n",
       "      <td>0.03725</td>\n",
       "      <td>7.06296</td>\n",
       "      <td>-1.02703</td>\n",
       "      <td>2.0</td>\n",
       "      <td>2.0</td>\n",
       "    </tr>\n",
       "    <tr>\n",
       "      <th>2</th>\n",
       "      <td>258323.343169</td>\n",
       "      <td>2.664110e+06</td>\n",
       "      <td>12.19617</td>\n",
       "      <td>8.59179</td>\n",
       "      <td>535.0</td>\n",
       "      <td>4.32848</td>\n",
       "      <td>0.14855</td>\n",
       "      <td>0.90309</td>\n",
       "      <td>0.0</td>\n",
       "      <td>0.91355</td>\n",
       "      <td>...</td>\n",
       "      <td>36.81416</td>\n",
       "      <td>0.00071</td>\n",
       "      <td>0.00571</td>\n",
       "      <td>1.34164</td>\n",
       "      <td>225.42549</td>\n",
       "      <td>0.06861</td>\n",
       "      <td>7.31022</td>\n",
       "      <td>0.54054</td>\n",
       "      <td>2.0</td>\n",
       "      <td>2.0</td>\n",
       "    </tr>\n",
       "    <tr>\n",
       "      <th>3</th>\n",
       "      <td>258413.343169</td>\n",
       "      <td>2.664110e+06</td>\n",
       "      <td>12.11320</td>\n",
       "      <td>8.58755</td>\n",
       "      <td>536.0</td>\n",
       "      <td>4.32518</td>\n",
       "      <td>0.14352</td>\n",
       "      <td>1.06532</td>\n",
       "      <td>0.0</td>\n",
       "      <td>0.36503</td>\n",
       "      <td>...</td>\n",
       "      <td>17.57359</td>\n",
       "      <td>0.00220</td>\n",
       "      <td>0.01238</td>\n",
       "      <td>1.84391</td>\n",
       "      <td>113.97736</td>\n",
       "      <td>0.08951</td>\n",
       "      <td>6.68820</td>\n",
       "      <td>2.24324</td>\n",
       "      <td>2.0</td>\n",
       "      <td>2.0</td>\n",
       "    </tr>\n",
       "    <tr>\n",
       "      <th>4</th>\n",
       "      <td>258503.343169</td>\n",
       "      <td>2.664110e+06</td>\n",
       "      <td>12.03034</td>\n",
       "      <td>8.58425</td>\n",
       "      <td>537.0</td>\n",
       "      <td>4.32195</td>\n",
       "      <td>0.13879</td>\n",
       "      <td>0.44645</td>\n",
       "      <td>0.0</td>\n",
       "      <td>0.06206</td>\n",
       "      <td>...</td>\n",
       "      <td>22.16388</td>\n",
       "      <td>0.00089</td>\n",
       "      <td>0.00596</td>\n",
       "      <td>0.77460</td>\n",
       "      <td>36.82467</td>\n",
       "      <td>0.03725</td>\n",
       "      <td>7.46354</td>\n",
       "      <td>1.97297</td>\n",
       "      <td>4.0</td>\n",
       "      <td>2.0</td>\n",
       "    </tr>\n",
       "    <tr>\n",
       "      <th>5</th>\n",
       "      <td>258593.343169</td>\n",
       "      <td>2.664110e+06</td>\n",
       "      <td>11.94757</td>\n",
       "      <td>8.58189</td>\n",
       "      <td>530.0</td>\n",
       "      <td>4.31879</td>\n",
       "      <td>0.13477</td>\n",
       "      <td>1.07262</td>\n",
       "      <td>0.0</td>\n",
       "      <td>1.78328</td>\n",
       "      <td>...</td>\n",
       "      <td>45.05311</td>\n",
       "      <td>-0.00603</td>\n",
       "      <td>-0.07360</td>\n",
       "      <td>3.13050</td>\n",
       "      <td>483.79874</td>\n",
       "      <td>0.08314</td>\n",
       "      <td>6.73362</td>\n",
       "      <td>-4.02703</td>\n",
       "      <td>4.0</td>\n",
       "      <td>2.0</td>\n",
       "    </tr>\n",
       "    <tr>\n",
       "      <th>6</th>\n",
       "      <td>258683.343169</td>\n",
       "      <td>2.664110e+06</td>\n",
       "      <td>11.86491</td>\n",
       "      <td>8.58047</td>\n",
       "      <td>534.0</td>\n",
       "      <td>4.31569</td>\n",
       "      <td>0.13070</td>\n",
       "      <td>0.69362</td>\n",
       "      <td>0.0</td>\n",
       "      <td>0.05827</td>\n",
       "      <td>...</td>\n",
       "      <td>17.57359</td>\n",
       "      <td>0.00170</td>\n",
       "      <td>0.02702</td>\n",
       "      <td>1.34164</td>\n",
       "      <td>61.00688</td>\n",
       "      <td>0.06002</td>\n",
       "      <td>6.92963</td>\n",
       "      <td>1.56757</td>\n",
       "      <td>4.0</td>\n",
       "      <td>2.0</td>\n",
       "    </tr>\n",
       "    <tr>\n",
       "      <th>7</th>\n",
       "      <td>258773.343169</td>\n",
       "      <td>2.664110e+06</td>\n",
       "      <td>11.78236</td>\n",
       "      <td>8.58000</td>\n",
       "      <td>532.0</td>\n",
       "      <td>4.31266</td>\n",
       "      <td>0.12659</td>\n",
       "      <td>0.92361</td>\n",
       "      <td>0.0</td>\n",
       "      <td>0.97943</td>\n",
       "      <td>...</td>\n",
       "      <td>41.95362</td>\n",
       "      <td>-0.00221</td>\n",
       "      <td>-0.00000</td>\n",
       "      <td>1.41421</td>\n",
       "      <td>115.40007</td>\n",
       "      <td>0.06657</td>\n",
       "      <td>6.74746</td>\n",
       "      <td>-0.59459</td>\n",
       "      <td>4.0</td>\n",
       "      <td>2.0</td>\n",
       "    </tr>\n",
       "    <tr>\n",
       "      <th>8</th>\n",
       "      <td>258143.343169</td>\n",
       "      <td>2.664200e+06</td>\n",
       "      <td>12.32839</td>\n",
       "      <td>8.51334</td>\n",
       "      <td>535.0</td>\n",
       "      <td>4.32580</td>\n",
       "      <td>0.17574</td>\n",
       "      <td>1.00166</td>\n",
       "      <td>0.0</td>\n",
       "      <td>0.84130</td>\n",
       "      <td>...</td>\n",
       "      <td>187.56355</td>\n",
       "      <td>0.00227</td>\n",
       "      <td>-0.01712</td>\n",
       "      <td>1.48324</td>\n",
       "      <td>521.14337</td>\n",
       "      <td>0.06861</td>\n",
       "      <td>6.75585</td>\n",
       "      <td>0.35135</td>\n",
       "      <td>2.0</td>\n",
       "      <td>2.0</td>\n",
       "    </tr>\n",
       "    <tr>\n",
       "      <th>9</th>\n",
       "      <td>258233.343169</td>\n",
       "      <td>2.664200e+06</td>\n",
       "      <td>12.24500</td>\n",
       "      <td>8.50716</td>\n",
       "      <td>534.0</td>\n",
       "      <td>4.32241</td>\n",
       "      <td>0.17108</td>\n",
       "      <td>1.20406</td>\n",
       "      <td>0.0</td>\n",
       "      <td>0.33484</td>\n",
       "      <td>...</td>\n",
       "      <td>85.83942</td>\n",
       "      <td>0.00182</td>\n",
       "      <td>0.00387</td>\n",
       "      <td>1.89737</td>\n",
       "      <td>212.62872</td>\n",
       "      <td>0.09688</td>\n",
       "      <td>6.78160</td>\n",
       "      <td>2.32432</td>\n",
       "      <td>2.0</td>\n",
       "      <td>2.0</td>\n",
       "    </tr>\n",
       "  </tbody>\n",
       "</table>\n",
       "<p>10 rows × 22 columns</p>\n",
       "</div>"
      ],
      "text/plain": [
       "               x             y       DFF      DFR  Altitude   Draw_D  Drain_D  \\\n",
       "0  258143.343169  2.664110e+06  12.36240  8.60310     541.0  4.33529  0.16722   \n",
       "1  258233.343169  2.664110e+06  12.27924  8.59698     536.0  4.33185  0.16012   \n",
       "2  258323.343169  2.664110e+06  12.19617  8.59179     535.0  4.32848  0.14855   \n",
       "3  258413.343169  2.664110e+06  12.11320  8.58755     536.0  4.32518  0.14352   \n",
       "4  258503.343169  2.664110e+06  12.03034  8.58425     537.0  4.32195  0.13879   \n",
       "5  258593.343169  2.664110e+06  11.94757  8.58189     530.0  4.31879  0.13477   \n",
       "6  258683.343169  2.664110e+06  11.86491  8.58047     534.0  4.31569  0.13070   \n",
       "7  258773.343169  2.664110e+06  11.78236  8.58000     532.0  4.31266  0.12659   \n",
       "8  258143.343169  2.664200e+06  12.32839  8.51334     535.0  4.32580  0.17574   \n",
       "9  258233.343169  2.664200e+06  12.24500  8.50716     534.0  4.32241  0.17108   \n",
       "\n",
       "        LS  Lineam_D    MRVBF  ...        SCA  Profile_C   Plan_C      TRI  \\\n",
       "0  1.75086       0.0  0.16393  ...   17.57359   -0.00098 -0.00084  2.48998   \n",
       "1  0.47551       0.0  1.84461  ...   40.00359   -0.00244 -0.02385  1.00000   \n",
       "2  0.90309       0.0  0.91355  ...   36.81416    0.00071  0.00571  1.34164   \n",
       "3  1.06532       0.0  0.36503  ...   17.57359    0.00220  0.01238  1.84391   \n",
       "4  0.44645       0.0  0.06206  ...   22.16388    0.00089  0.00596  0.77460   \n",
       "5  1.07262       0.0  1.78328  ...   45.05311   -0.00603 -0.07360  3.13050   \n",
       "6  0.69362       0.0  0.05827  ...   17.57359    0.00170  0.02702  1.34164   \n",
       "7  0.92361       0.0  0.97943  ...   41.95362   -0.00221 -0.00000  1.41421   \n",
       "8  1.00166       0.0  0.84130  ...  187.56355    0.00227 -0.01712  1.48324   \n",
       "9  1.20406       0.0  0.33484  ...   85.83942    0.00182  0.00387  1.89737   \n",
       "\n",
       "         SPI    Slope      TWI      TPI  litho_recl  geomorph_R  \n",
       "0  256.40796  0.12944  6.25581  0.64865         2.0         2.0  \n",
       "1  141.52002  0.03725  7.06296 -1.02703         2.0         2.0  \n",
       "2  225.42549  0.06861  7.31022  0.54054         2.0         2.0  \n",
       "3  113.97736  0.08951  6.68820  2.24324         2.0         2.0  \n",
       "4   36.82467  0.03725  7.46354  1.97297         4.0         2.0  \n",
       "5  483.79874  0.08314  6.73362 -4.02703         4.0         2.0  \n",
       "6   61.00688  0.06002  6.92963  1.56757         4.0         2.0  \n",
       "7  115.40007  0.06657  6.74746 -0.59459         4.0         2.0  \n",
       "8  521.14337  0.06861  6.75585  0.35135         2.0         2.0  \n",
       "9  212.62872  0.09688  6.78160  2.32432         2.0         2.0  \n",
       "\n",
       "[10 rows x 22 columns]"
      ]
     },
     "execution_count": 29,
     "metadata": {},
     "output_type": "execute_result"
    }
   ],
   "source": [
    "unlabeled = pd.read_csv('Data_unlabeled.csv')\n",
    "\n",
    "x_unl = unlabeled.iloc[: , 2:].values\n",
    "x_coordinates = unlabeled.iloc[:,:2]\n",
    "unlabeled.head(10)"
   ]
  },
  {
   "cell_type": "code",
   "execution_count": 37,
   "metadata": {},
   "outputs": [
    {
     "name": "stdout",
     "output_type": "stream",
     "text": [
      "[ 1.24e+01  8.60e+00  5.41e+02  4.34e+00  1.67e-01  1.75e+00  0.00e+00\n",
      "  1.64e-01  2.06e-01  4.00e+00  1.76e+01 -9.80e-04 -8.40e-04  2.49e+00\n",
      "  2.56e+02  1.29e-01  6.26e+00  6.49e-01  2.00e+00  2.00e+00]\n"
     ]
    }
   ],
   "source": [
    "print(x_unl[0])"
   ]
  },
  {
   "cell_type": "code",
   "execution_count": 30,
   "metadata": {},
   "outputs": [
    {
     "name": "stdout",
     "output_type": "stream",
     "text": [
      "1\n"
     ]
    }
   ],
   "source": [
    "x_unl = sc.transform(x_unl)\n",
    "label = classifier.predict(x_unl)\n",
    "print(label[0])"
   ]
  },
  {
   "cell_type": "code",
   "execution_count": 31,
   "metadata": {},
   "outputs": [
    {
     "data": {
      "text/html": [
       "<div>\n",
       "<style scoped>\n",
       "    .dataframe tbody tr th:only-of-type {\n",
       "        vertical-align: middle;\n",
       "    }\n",
       "\n",
       "    .dataframe tbody tr th {\n",
       "        vertical-align: top;\n",
       "    }\n",
       "\n",
       "    .dataframe thead th {\n",
       "        text-align: right;\n",
       "    }\n",
       "</style>\n",
       "<table border=\"1\" class=\"dataframe\">\n",
       "  <thead>\n",
       "    <tr style=\"text-align: right;\">\n",
       "      <th></th>\n",
       "      <th>x</th>\n",
       "      <th>y</th>\n",
       "    </tr>\n",
       "  </thead>\n",
       "  <tbody>\n",
       "    <tr>\n",
       "      <th>0</th>\n",
       "      <td>258143.343169</td>\n",
       "      <td>2.664110e+06</td>\n",
       "    </tr>\n",
       "    <tr>\n",
       "      <th>1</th>\n",
       "      <td>258233.343169</td>\n",
       "      <td>2.664110e+06</td>\n",
       "    </tr>\n",
       "    <tr>\n",
       "      <th>2</th>\n",
       "      <td>258323.343169</td>\n",
       "      <td>2.664110e+06</td>\n",
       "    </tr>\n",
       "    <tr>\n",
       "      <th>3</th>\n",
       "      <td>258413.343169</td>\n",
       "      <td>2.664110e+06</td>\n",
       "    </tr>\n",
       "    <tr>\n",
       "      <th>4</th>\n",
       "      <td>258503.343169</td>\n",
       "      <td>2.664110e+06</td>\n",
       "    </tr>\n",
       "  </tbody>\n",
       "</table>\n",
       "</div>"
      ],
      "text/plain": [
       "               x             y\n",
       "0  258143.343169  2.664110e+06\n",
       "1  258233.343169  2.664110e+06\n",
       "2  258323.343169  2.664110e+06\n",
       "3  258413.343169  2.664110e+06\n",
       "4  258503.343169  2.664110e+06"
      ]
     },
     "execution_count": 31,
     "metadata": {},
     "output_type": "execute_result"
    }
   ],
   "source": [
    "x_coordinates.head()"
   ]
  },
  {
   "cell_type": "code",
   "execution_count": 32,
   "metadata": {},
   "outputs": [
    {
     "name": "stderr",
     "output_type": "stream",
     "text": [
      "C:\\Users\\Bihari\\Anaconda3\\lib\\site-packages\\ipykernel_launcher.py:1: SettingWithCopyWarning: \n",
      "A value is trying to be set on a copy of a slice from a DataFrame.\n",
      "Try using .loc[row_indexer,col_indexer] = value instead\n",
      "\n",
      "See the caveats in the documentation: http://pandas.pydata.org/pandas-docs/stable/indexing.html#indexing-view-versus-copy\n",
      "  \"\"\"Entry point for launching an IPython kernel.\n"
     ]
    },
    {
     "data": {
      "text/html": [
       "<div>\n",
       "<style scoped>\n",
       "    .dataframe tbody tr th:only-of-type {\n",
       "        vertical-align: middle;\n",
       "    }\n",
       "\n",
       "    .dataframe tbody tr th {\n",
       "        vertical-align: top;\n",
       "    }\n",
       "\n",
       "    .dataframe thead th {\n",
       "        text-align: right;\n",
       "    }\n",
       "</style>\n",
       "<table border=\"1\" class=\"dataframe\">\n",
       "  <thead>\n",
       "    <tr style=\"text-align: right;\">\n",
       "      <th></th>\n",
       "      <th>x</th>\n",
       "      <th>y</th>\n",
       "      <th>well_yield</th>\n",
       "    </tr>\n",
       "  </thead>\n",
       "  <tbody>\n",
       "    <tr>\n",
       "      <th>count</th>\n",
       "      <td>2.050623e+06</td>\n",
       "      <td>2.050623e+06</td>\n",
       "      <td>2.050623e+06</td>\n",
       "    </tr>\n",
       "    <tr>\n",
       "      <th>mean</th>\n",
       "      <td>2.785837e+05</td>\n",
       "      <td>2.769838e+06</td>\n",
       "      <td>1.161304e+00</td>\n",
       "    </tr>\n",
       "    <tr>\n",
       "      <th>std</th>\n",
       "      <td>3.924501e+04</td>\n",
       "      <td>4.121798e+04</td>\n",
       "      <td>4.707467e-01</td>\n",
       "    </tr>\n",
       "    <tr>\n",
       "      <th>min</th>\n",
       "      <td>1.901933e+05</td>\n",
       "      <td>2.664110e+06</td>\n",
       "      <td>1.000000e+00</td>\n",
       "    </tr>\n",
       "    <tr>\n",
       "      <th>25%</th>\n",
       "      <td>2.483333e+05</td>\n",
       "      <td>2.739260e+06</td>\n",
       "      <td>1.000000e+00</td>\n",
       "    </tr>\n",
       "    <tr>\n",
       "      <th>50%</th>\n",
       "      <td>2.789333e+05</td>\n",
       "      <td>2.768240e+06</td>\n",
       "      <td>1.000000e+00</td>\n",
       "    </tr>\n",
       "    <tr>\n",
       "      <th>75%</th>\n",
       "      <td>3.118733e+05</td>\n",
       "      <td>2.798570e+06</td>\n",
       "      <td>1.000000e+00</td>\n",
       "    </tr>\n",
       "    <tr>\n",
       "      <th>max</th>\n",
       "      <td>3.552533e+05</td>\n",
       "      <td>2.862470e+06</td>\n",
       "      <td>4.000000e+00</td>\n",
       "    </tr>\n",
       "  </tbody>\n",
       "</table>\n",
       "</div>"
      ],
      "text/plain": [
       "                  x             y    well_yield\n",
       "count  2.050623e+06  2.050623e+06  2.050623e+06\n",
       "mean   2.785837e+05  2.769838e+06  1.161304e+00\n",
       "std    3.924501e+04  4.121798e+04  4.707467e-01\n",
       "min    1.901933e+05  2.664110e+06  1.000000e+00\n",
       "25%    2.483333e+05  2.739260e+06  1.000000e+00\n",
       "50%    2.789333e+05  2.768240e+06  1.000000e+00\n",
       "75%    3.118733e+05  2.798570e+06  1.000000e+00\n",
       "max    3.552533e+05  2.862470e+06  4.000000e+00"
      ]
     },
     "execution_count": 32,
     "metadata": {},
     "output_type": "execute_result"
    }
   ],
   "source": [
    "x_coordinates['well_yield'] = label\n",
    "\n",
    "x_coordinates.head()\n",
    "x_coordinates.describe()"
   ]
  },
  {
   "cell_type": "code",
   "execution_count": 33,
   "metadata": {},
   "outputs": [
    {
     "name": "stdout",
     "output_type": "stream",
     "text": [
      "1    1801739\n",
      "2     173606\n",
      "3      68666\n",
      "4       6612\n",
      "Name: well_yield, dtype: int64\n"
     ]
    },
    {
     "data": {
      "text/plain": [
       "<matplotlib.axes._subplots.AxesSubplot at 0x229f080fd30>"
      ]
     },
     "execution_count": 33,
     "metadata": {},
     "output_type": "execute_result"
    },
    {
     "data": {
      "image/png": "[encoded data removed]",
      "text/plain": [
       "<Figure size 432x288 with 1 Axes>"
      ]
     },
     "metadata": {
      "needs_background": "light"
     },
     "output_type": "display_data"
    }
   ],
   "source": [
    "print(pd.value_counts(x_coordinates['well_yield']))\n",
    "pd.value_counts(x_coordinates['well_yield']).plot.bar()"
   ]
  },
  {
   "cell_type": "code",
   "execution_count": 34,
   "metadata": {},
   "outputs": [],
   "source": [
    "#exporting the data\n",
    "x_coordinates.to_csv('prediction_SVC_raw.csv')"
   ]
  },
  {
   "cell_type": "code",
   "execution_count": null,
   "metadata": {},
   "outputs": [],
   "source": []
  },
  {
   "cell_type": "markdown",
   "metadata": {},
   "source": [
    "# Grid search"
   ]
  },
  {
   "cell_type": "code",
   "execution_count": 19,
   "metadata": {},
   "outputs": [
    {
     "name": "stdout",
     "output_type": "stream",
     "text": [
      "Best Accuracy: 44.76 %\n",
      "Best Parameters: {'C': 0.01, 'degree': 2, 'gamma': 0.41000000000000003, 'kernel': 'poly'}\n"
     ]
    },
    {
     "name": "stderr",
     "output_type": "stream",
     "text": [
      "C:\\ProgramData\\Anaconda3\\lib\\site-packages\\sklearn\\model_selection\\_search.py:841: DeprecationWarning: The default of the `iid` parameter will change from True to False in version 0.22 and will be removed in 0.24. This will change numeric results when test-set sizes are unequal.\n",
      "  DeprecationWarning)\n"
     ]
    }
   ],
   "source": [
    "from sklearn.model_selection import GridSearchCV\n",
    "kernels = ['linear','poly','rbf','sigmoid','precomputed']\n",
    "cs = list(np.arange(0.01,1,0.01))\n",
    "degrees  = list(np.arange(1,4,1))\n",
    "gammas = list(np.arange(0.01,1,0.05))\n",
    "\n",
    "parameters = [{'kernel':['poly'],'C':cs,'degree':degrees,'gamma':gammas}]\n",
    "grid_search = GridSearchCV(estimator = classifier,\n",
    "                           param_grid = parameters,\n",
    "                           scoring = 'accuracy',\n",
    "                           cv = 10,\n",
    "                           n_jobs = -1)\n",
    "grid_search = grid_search.fit(x_train, y_train)\n",
    "best_accuracy = grid_search.best_score_\n",
    "best_parameters = grid_search.best_params_\n",
    "print(\"Best Accuracy: {:.2f} %\".format(best_accuracy*100))\n",
    "print(\"Best Parameters:\", best_parameters)"
   ]
  },
  {
   "cell_type": "code",
   "execution_count": 22,
   "metadata": {},
   "outputs": [
    {
     "name": "stdout",
     "output_type": "stream",
     "text": [
      "Accuracy: 99.51 %\n",
      "Standard Deviation: 0.30 %\n"
     ]
    }
   ],
   "source": [
    "from sklearn.model_selection import cross_val_score\n",
    "accuracies = cross_val_score(estimator=classifier, X = x_train , y = y_train, cv = 10)\n",
    "\n",
    "print('Accuracy: {:0.2f} %'.format(accuracies.mean()*100))\n",
    "print('Standard Deviation: {:0.2f} %'.format(accuracies.std()*100))"
   ]
  },
  {
   "cell_type": "code",
   "execution_count": 278,
   "metadata": {},
   "outputs": [
    {
     "data": {
      "text/plain": [
       "[1, 2, 3, 4]"
      ]
     },
     "execution_count": 278,
     "metadata": {},
     "output_type": "execute_result"
    }
   ],
   "source": [
    "list(np.arange(1,5))"
   ]
  },
  {
   "cell_type": "code",
   "execution_count": null,
   "metadata": {},
   "outputs": [],
   "source": []
  }
 ],
 "metadata": {
  "colab": {
   "authorship_tag": "ABX9TyNxDRfLvKVBN9HjXcmlURF3",
   "collapsed_sections": [],
   "name": "data_preprocessing_tools.ipynb",
   "provenance": [],
   "toc_visible": true
  },
  "kernelspec": {
   "display_name": "Python 3",
   "language": "python",
   "name": "python3"
  },
  "language_info": {
   "codemirror_mode": {
    "name": "ipython",
    "version": 3
   },
   "file_extension": ".py",
   "mimetype": "text/x-python",
   "name": "python",
   "nbconvert_exporter": "python",
   "pygments_lexer": "ipython3",
   "version": "3.7.3"
  }
 },
 "nbformat": 4,
 "nbformat_minor": 1
}
