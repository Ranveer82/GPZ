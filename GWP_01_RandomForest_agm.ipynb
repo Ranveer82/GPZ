{
 "cells": [
  {
   "cell_type": "markdown",
   "metadata": {
    "colab_type": "text",
    "id": "37puETfgRzzg"
   },
   "source": [
    "# Data Preprocessing Tools"
   ]
  },
  {
   "cell_type": "markdown",
   "metadata": {
    "colab_type": "text",
    "id": "EoRP98MpR-qj"
   },
   "source": [
    "## Importing the libraries"
   ]
  },
  {
   "cell_type": "code",
   "execution_count": 1,
   "metadata": {
    "colab": {},
    "colab_type": "code",
    "id": "N-qiINBQSK2g"
   },
   "outputs": [],
   "source": [
    "import numpy as np\n",
    "import matplotlib.pyplot as plt\n",
    "import pandas as pd"
   ]
  },
  {
   "cell_type": "markdown",
   "metadata": {
    "colab_type": "text",
    "id": "RopL7tUZSQkT"
   },
   "source": [
    "## Importing the dataset"
   ]
  },
  {
   "cell_type": "code",
   "execution_count": 2,
   "metadata": {
    "colab": {},
    "colab_type": "code",
    "id": "WwEPNDWySTKm"
   },
   "outputs": [],
   "source": [
    "dataset = pd.read_csv('Train_data_agm.csv')\n",
    "#data = dataset.drop(['Plan_C', 'Prifile_C','Slope','SPI','SCA'], axis=1)"
   ]
  },
  {
   "cell_type": "code",
   "execution_count": 3,
   "metadata": {},
   "outputs": [],
   "source": [
    "x = dataset.iloc[:, :20].values\n",
    "y_real = dataset.iloc[:, -2].values\n",
    "y_class = dataset.iloc[:, -1].values"
   ]
  },
  {
   "cell_type": "code",
   "execution_count": 86,
   "metadata": {},
   "outputs": [
    {
     "data": {
      "text/plain": [
       "array([[ 5.41e+00,  3.44e+00,  1.62e+02, ..., -1.22e+00,  1.00e+00,\n",
       "         5.00e+00],\n",
       "       [ 5.41e+00,  3.42e+00,  1.62e+02, ..., -1.27e+00,  1.00e+00,\n",
       "         5.00e+00],\n",
       "       [ 5.40e+00,  3.41e+00,  1.63e+02, ..., -3.51e-01,  1.00e+00,\n",
       "         5.00e+00],\n",
       "       ...,\n",
       "       [ 5.45e+00,  3.37e+00,  5.09e+02, ..., -1.73e+00,  4.00e+00,\n",
       "         2.00e+00],\n",
       "       [ 5.47e+00,  3.40e+00,  5.11e+02, ...,  2.97e-01,  4.00e+00,\n",
       "         2.00e+00],\n",
       "       [ 5.48e+00,  3.43e+00,  5.12e+02, ...,  1.57e+00,  4.00e+00,\n",
       "         2.00e+00]])"
      ]
     },
     "execution_count": 86,
     "metadata": {},
     "output_type": "execute_result"
    }
   ],
   "source": [
    "x"
   ]
  },
  {
   "cell_type": "code",
   "execution_count": 4,
   "metadata": {},
   "outputs": [
    {
     "name": "stdout",
     "output_type": "stream",
     "text": [
      "1    1700\n",
      "2     950\n",
      "3     875\n",
      "4     875\n",
      "Name: well_M, dtype: int64\n"
     ]
    },
    {
     "data": {
      "text/plain": [
       "<matplotlib.axes._subplots.AxesSubplot at 0x18a4b664a90>"
      ]
     },
     "execution_count": 4,
     "metadata": {},
     "output_type": "execute_result"
    },
    {
     "data": {
      "image/png": "[encoded data removed]",
      "text/plain": [
       "<Figure size 432x288 with 1 Axes>"
      ]
     },
     "metadata": {
      "needs_background": "light"
     },
     "output_type": "display_data"
    }
   ],
   "source": [
    "print(pd.value_counts(dataset['well_M']))\n",
    "pd.value_counts(dataset['well_M']).plot.bar()"
   ]
  },
  {
   "cell_type": "markdown",
   "metadata": {},
   "source": [
    "### Checking the variation of accuracy with respect to different parameters"
   ]
  },
  {
   "cell_type": "code",
   "execution_count": 21,
   "metadata": {},
   "outputs": [
    {
     "name": "stdout",
     "output_type": "stream",
     "text": [
      "1 0.9962121212121212\n",
      "2 0.9992424242424243\n",
      "3 0.9992424242424243\n",
      "4 0.9977272727272727\n",
      "5 0.996969696969697\n",
      "6 0.9977272727272727\n",
      "7 0.9977272727272727\n",
      "8 0.9992424242424243\n",
      "9 0.9962121212121212\n",
      "10 0.9977272727272727\n",
      "11 0.9992424242424243\n",
      "12 1.0\n",
      "13 0.9992424242424243\n",
      "14 0.9992424242424243\n",
      "15 0.996969696969697\n",
      "16 0.9984848484848485\n",
      "17 0.9984848484848485\n",
      "18 0.9984848484848485\n",
      "19 1.0\n",
      "20 1.0\n",
      "21 0.9992424242424243\n",
      "22 0.9984848484848485\n",
      "23 0.996969696969697\n",
      "24 0.9984848484848485\n",
      "25 0.9954545454545455\n",
      "26 0.9992424242424243\n",
      "27 0.9977272727272727\n",
      "28 0.996969696969697\n",
      "29 0.996969696969697\n",
      "30 0.996969696969697\n",
      "31 0.9992424242424243\n",
      "32 0.9984848484848485\n",
      "33 0.9984848484848485\n",
      "34 1.0\n",
      "35 0.9946969696969697\n",
      "36 0.9977272727272727\n",
      "37 0.9992424242424243\n",
      "38 0.9863636363636363\n",
      "39 0.9992424242424243\n",
      "40 0.9992424242424243\n",
      "41 0.9962121212121212\n",
      "42 1.0\n",
      "43 0.9977272727272727\n",
      "44 0.996969696969697\n",
      "45 0.996969696969697\n",
      "46 0.996969696969697\n",
      "47 0.9992424242424243\n",
      "48 0.9962121212121212\n",
      "49 1.0\n",
      "50 0.996969696969697\n",
      "51 0.996969696969697\n",
      "52 0.9992424242424243\n",
      "53 0.9962121212121212\n",
      "54 1.0\n",
      "55 0.9946969696969697\n",
      "56 1.0\n",
      "57 1.0\n",
      "58 0.9977272727272727\n",
      "59 0.9977272727272727\n",
      "60 0.9984848484848485\n",
      "61 0.9984848484848485\n",
      "62 0.996969696969697\n",
      "63 0.996969696969697\n",
      "64 0.9992424242424243\n",
      "65 0.9992424242424243\n",
      "66 0.9977272727272727\n",
      "67 0.996969696969697\n",
      "68 1.0\n",
      "69 0.9977272727272727\n",
      "70 0.996969696969697\n",
      "71 0.9977272727272727\n",
      "72 0.9984848484848485\n",
      "73 0.996969696969697\n",
      "74 0.9992424242424243\n",
      "75 0.9924242424242424\n",
      "76 0.9962121212121212\n",
      "77 0.9984848484848485\n",
      "78 1.0\n",
      "79 0.9977272727272727\n",
      "80 0.9977272727272727\n",
      "81 1.0\n",
      "82 0.9992424242424243\n",
      "83 0.9992424242424243\n",
      "84 1.0\n",
      "85 1.0\n",
      "86 0.9992424242424243\n",
      "87 0.9977272727272727\n",
      "88 0.9977272727272727\n",
      "89 1.0\n",
      "90 0.9977272727272727\n",
      "91 0.9984848484848485\n",
      "92 0.9984848484848485\n",
      "93 0.9984848484848485\n",
      "94 0.9977272727272727\n",
      "95 0.9977272727272727\n",
      "96 0.9962121212121212\n",
      "97 0.9992424242424243\n",
      "98 1.0\n",
      "99 0.9977272727272727\n"
     ]
    },
    {
     "data": {
      "image/png": "[encoded data removed]",
      "text/plain": [
       "<Figure size 432x288 with 1 Axes>"
      ]
     },
     "metadata": {
      "needs_background": "light"
     },
     "output_type": "display_data"
    }
   ],
   "source": [
    "from sklearn.ensemble import RandomForestClassifier\n",
    "from sklearn.metrics import  accuracy_score\n",
    "acc = []\n",
    "for i in range(1,100):\n",
    "   \n",
    "        \n",
    "    from sklearn.model_selection import train_test_split\n",
    "    x_train, x_test, y_train, y_test = train_test_split(x, y_class, test_size= 0.3, random_state = i)\n",
    "    classifier = RandomForestClassifier(n_estimators=10 ,random_state = 0)\n",
    "    classifier.fit(x_train, y_train)\n",
    "    y_pred = classifier.predict(x_test)\n",
    "    acc.append(accuracy_score(y_test, y_pred))\n",
    "    print(i,accuracy_score(y_test, y_pred))\n",
    "\n",
    "plt.plot(range(1,100),acc, c = 'blue')\n",
    "plt.xlabel('hyperparameter (no of trees)')\n",
    "plt.ylabel('Accuracy')\n",
    "plt.show()"
   ]
  },
  {
   "cell_type": "markdown",
   "metadata": {
    "colab_type": "text",
    "id": "qb_vcgm3qZKW"
   },
   "source": [
    "## Splitting the dataset into the Training set and Test set"
   ]
  },
  {
   "cell_type": "code",
   "execution_count": 4,
   "metadata": {},
   "outputs": [],
   "source": [
    "from sklearn.model_selection import train_test_split\n",
    "x_train, x_test, y_train, y_test = train_test_split(x, y_class, test_size= 0.2, random_state = 1)"
   ]
  },
  {
   "cell_type": "markdown",
   "metadata": {},
   "source": [
    "# Training Random Forest classifier"
   ]
  },
  {
   "cell_type": "code",
   "execution_count": 5,
   "metadata": {},
   "outputs": [
    {
     "data": {
      "text/plain": [
       "RandomForestClassifier(bootstrap=True, class_weight=None, criterion='gini',\n",
       "            max_depth=None, max_features='auto', max_leaf_nodes=None,\n",
       "            min_impurity_decrease=0.0, min_impurity_split=None,\n",
       "            min_samples_leaf=1, min_samples_split=2,\n",
       "            min_weight_fraction_leaf=0.0, n_estimators=10, n_jobs=None,\n",
       "            oob_score=False, random_state=0, verbose=0, warm_start=False)"
      ]
     },
     "execution_count": 5,
     "metadata": {},
     "output_type": "execute_result"
    }
   ],
   "source": [
    "from sklearn.ensemble import RandomForestClassifier\n",
    "classifier = RandomForestClassifier(n_estimators=10 ,random_state = 0)\n",
    "classifier.fit(x_train, y_train)"
   ]
  },
  {
   "cell_type": "markdown",
   "metadata": {},
   "source": [
    "# Predicting Test Result"
   ]
  },
  {
   "cell_type": "code",
   "execution_count": 6,
   "metadata": {},
   "outputs": [
    {
     "name": "stdout",
     "output_type": "stream",
     "text": [
      "[[3 3]\n",
      " [1 1]\n",
      " [1 1]\n",
      " ...\n",
      " [1 1]\n",
      " [4 4]\n",
      " [3 3]]\n"
     ]
    }
   ],
   "source": [
    "y_pred = classifier.predict(x_test)\n",
    "np.set_printoptions(precision=2)\n",
    "print(np.concatenate((y_pred.reshape(len(y_pred),1), y_test.reshape(len(y_test),1)),1))"
   ]
  },
  {
   "cell_type": "markdown",
   "metadata": {},
   "source": [
    "# Evaluating accuracy"
   ]
  },
  {
   "cell_type": "code",
   "execution_count": 8,
   "metadata": {},
   "outputs": [
    {
     "name": "stdout",
     "output_type": "stream",
     "text": [
      "Confusion Matrix: \n",
      "\n",
      "[[345   0   0   1]\n",
      " [  0 194   0   0]\n",
      " [  0   0 181   0]\n",
      " [  1   0   0 158]]\n",
      "\n",
      "overall Accuracy: 99.77 %\n",
      "              precision    recall  f1-score   support\n",
      "\n",
      "           1       1.00      1.00      1.00       346\n",
      "           2       1.00      1.00      1.00       194\n",
      "           3       1.00      1.00      1.00       181\n",
      "           4       0.99      0.99      0.99       159\n",
      "\n",
      "   micro avg       1.00      1.00      1.00       880\n",
      "   macro avg       1.00      1.00      1.00       880\n",
      "weighted avg       1.00      1.00      1.00       880\n",
      "\n",
      "kappa: 0.997\n"
     ]
    }
   ],
   "source": [
    "from sklearn.metrics import confusion_matrix, accuracy_score, classification_report,cohen_kappa_score\n",
    "cr = classification_report(y_test, y_pred)\n",
    "cm = confusion_matrix(y_test, y_pred)\n",
    "print('Confusion Matrix: \\n')\n",
    "print(cm)\n",
    "\n",
    "print('\\noverall Accuracy: {:0.2f} %'.format(accuracy_score(y_test, y_pred)*100))  \n",
    "print(cr)\n",
    "\n",
    "k = cohen_kappa_score(y_test, y_pred)\n",
    "print('kappa: %0.3f'%k)"
   ]
  },
  {
   "cell_type": "markdown",
   "metadata": {},
   "source": [
    "## Cross Validation"
   ]
  },
  {
   "cell_type": "code",
   "execution_count": 26,
   "metadata": {},
   "outputs": [
    {
     "name": "stdout",
     "output_type": "stream",
     "text": [
      "Accuracy: 99.89 %\n",
      "Standard Deviation: 0.19 %\n"
     ]
    }
   ],
   "source": [
    "from sklearn.model_selection import cross_val_score\n",
    "accuracies = cross_val_score(estimator=classifier, X = x_train , y = y_train, cv = 10,)\n",
    "\n",
    "print('Accuracy: {:0.2f} %'.format(accuracies.mean()*100))\n",
    "print('Standard Deviation: {:0.2f} %'.format(accuracies.std()*100))"
   ]
  },
  {
   "cell_type": "markdown",
   "metadata": {},
   "source": [
    "# Feature Importance"
   ]
  },
  {
   "cell_type": "code",
   "execution_count": 27,
   "metadata": {},
   "outputs": [],
   "source": [
    "import pandas as pd\n",
    "feature_importances = pd.DataFrame(classifier.feature_importances_,\n",
    "                                   index = dataset.columns[:-2],\n",
    "                                    columns=['importance']).sort_values('importance',ascending=False)"
   ]
  },
  {
   "cell_type": "code",
   "execution_count": 28,
   "metadata": {},
   "outputs": [
    {
     "name": "stdout",
     "output_type": "stream",
     "text": [
      "            importance\n",
      "Lineam_D      0.138778\n",
      "DFR           0.133023\n",
      "Draw_D        0.128186\n",
      "DFF           0.122694\n",
      "Altitude      0.117558\n",
      "Drain_D       0.106589\n",
      "MRVBF         0.061281\n",
      "MRRTF         0.059451\n",
      "litho_recl    0.021249\n",
      "TWI           0.020289\n",
      "geomorph_R    0.019746\n",
      "LULC          0.015793\n",
      "TPI           0.009384\n",
      "TRI           0.008730\n",
      "SCA           0.008644\n",
      "SPI           0.007685\n",
      "LS            0.007661\n",
      "Slope         0.006417\n",
      "Prifile_C     0.004296\n",
      "Plan_C        0.002548\n"
     ]
    },
    {
     "data": {
      "image/png": "[encoded data removed]",
      "text/plain": [
       "<Figure size 432x288 with 1 Axes>"
      ]
     },
     "metadata": {
      "needs_background": "light"
     },
     "output_type": "display_data"
    }
   ],
   "source": [
    "print(feature_importances)\n",
    "plt.bar(feature_importances.index,feature_importances.iloc[:,-1].values, align='center', alpha = 1)\n",
    "plt.show()"
   ]
  },
  {
   "cell_type": "markdown",
   "metadata": {},
   "source": [
    "# predicting unlabled data"
   ]
  },
  {
   "cell_type": "code",
   "execution_count": 39,
   "metadata": {},
   "outputs": [
    {
     "data": {
      "text/html": [
       "<div>\n",
       "<style scoped>\n",
       "    .dataframe tbody tr th:only-of-type {\n",
       "        vertical-align: middle;\n",
       "    }\n",
       "\n",
       "    .dataframe tbody tr th {\n",
       "        vertical-align: top;\n",
       "    }\n",
       "\n",
       "    .dataframe thead th {\n",
       "        text-align: right;\n",
       "    }\n",
       "</style>\n",
       "<table border=\"1\" class=\"dataframe\">\n",
       "  <thead>\n",
       "    <tr style=\"text-align: right;\">\n",
       "      <th></th>\n",
       "      <th>x</th>\n",
       "      <th>y</th>\n",
       "      <th>DFF</th>\n",
       "      <th>DFR</th>\n",
       "      <th>Altitude</th>\n",
       "      <th>Draw_D</th>\n",
       "      <th>Drain_D</th>\n",
       "      <th>LS</th>\n",
       "      <th>Lineam_D</th>\n",
       "      <th>MRVBF</th>\n",
       "      <th>...</th>\n",
       "      <th>SCA</th>\n",
       "      <th>Profile_C</th>\n",
       "      <th>Plan_C</th>\n",
       "      <th>TRI</th>\n",
       "      <th>SPI</th>\n",
       "      <th>Slope</th>\n",
       "      <th>TWI</th>\n",
       "      <th>TPI</th>\n",
       "      <th>litho_recl</th>\n",
       "      <th>geomorph_R</th>\n",
       "    </tr>\n",
       "  </thead>\n",
       "  <tbody>\n",
       "    <tr>\n",
       "      <th>0</th>\n",
       "      <td>258143.343169</td>\n",
       "      <td>2.664110e+06</td>\n",
       "      <td>12.36240</td>\n",
       "      <td>8.60310</td>\n",
       "      <td>541.0</td>\n",
       "      <td>4.33529</td>\n",
       "      <td>0.16722</td>\n",
       "      <td>1.75086</td>\n",
       "      <td>0.0</td>\n",
       "      <td>0.16393</td>\n",
       "      <td>...</td>\n",
       "      <td>17.57359</td>\n",
       "      <td>-0.00098</td>\n",
       "      <td>-0.00084</td>\n",
       "      <td>2.48998</td>\n",
       "      <td>256.40796</td>\n",
       "      <td>0.12944</td>\n",
       "      <td>6.25581</td>\n",
       "      <td>0.64865</td>\n",
       "      <td>2.0</td>\n",
       "      <td>2.0</td>\n",
       "    </tr>\n",
       "    <tr>\n",
       "      <th>1</th>\n",
       "      <td>258233.343169</td>\n",
       "      <td>2.664110e+06</td>\n",
       "      <td>12.27924</td>\n",
       "      <td>8.59698</td>\n",
       "      <td>536.0</td>\n",
       "      <td>4.33185</td>\n",
       "      <td>0.16012</td>\n",
       "      <td>0.47551</td>\n",
       "      <td>0.0</td>\n",
       "      <td>1.84461</td>\n",
       "      <td>...</td>\n",
       "      <td>40.00359</td>\n",
       "      <td>-0.00244</td>\n",
       "      <td>-0.02385</td>\n",
       "      <td>1.00000</td>\n",
       "      <td>141.52002</td>\n",
       "      <td>0.03725</td>\n",
       "      <td>7.06296</td>\n",
       "      <td>-1.02703</td>\n",
       "      <td>2.0</td>\n",
       "      <td>2.0</td>\n",
       "    </tr>\n",
       "    <tr>\n",
       "      <th>2</th>\n",
       "      <td>258323.343169</td>\n",
       "      <td>2.664110e+06</td>\n",
       "      <td>12.19617</td>\n",
       "      <td>8.59179</td>\n",
       "      <td>535.0</td>\n",
       "      <td>4.32848</td>\n",
       "      <td>0.14855</td>\n",
       "      <td>0.90309</td>\n",
       "      <td>0.0</td>\n",
       "      <td>0.91355</td>\n",
       "      <td>...</td>\n",
       "      <td>36.81416</td>\n",
       "      <td>0.00071</td>\n",
       "      <td>0.00571</td>\n",
       "      <td>1.34164</td>\n",
       "      <td>225.42549</td>\n",
       "      <td>0.06861</td>\n",
       "      <td>7.31022</td>\n",
       "      <td>0.54054</td>\n",
       "      <td>2.0</td>\n",
       "      <td>2.0</td>\n",
       "    </tr>\n",
       "    <tr>\n",
       "      <th>3</th>\n",
       "      <td>258413.343169</td>\n",
       "      <td>2.664110e+06</td>\n",
       "      <td>12.11320</td>\n",
       "      <td>8.58755</td>\n",
       "      <td>536.0</td>\n",
       "      <td>4.32518</td>\n",
       "      <td>0.14352</td>\n",
       "      <td>1.06532</td>\n",
       "      <td>0.0</td>\n",
       "      <td>0.36503</td>\n",
       "      <td>...</td>\n",
       "      <td>17.57359</td>\n",
       "      <td>0.00220</td>\n",
       "      <td>0.01238</td>\n",
       "      <td>1.84391</td>\n",
       "      <td>113.97736</td>\n",
       "      <td>0.08951</td>\n",
       "      <td>6.68820</td>\n",
       "      <td>2.24324</td>\n",
       "      <td>2.0</td>\n",
       "      <td>2.0</td>\n",
       "    </tr>\n",
       "    <tr>\n",
       "      <th>4</th>\n",
       "      <td>258503.343169</td>\n",
       "      <td>2.664110e+06</td>\n",
       "      <td>12.03034</td>\n",
       "      <td>8.58425</td>\n",
       "      <td>537.0</td>\n",
       "      <td>4.32195</td>\n",
       "      <td>0.13879</td>\n",
       "      <td>0.44645</td>\n",
       "      <td>0.0</td>\n",
       "      <td>0.06206</td>\n",
       "      <td>...</td>\n",
       "      <td>22.16388</td>\n",
       "      <td>0.00089</td>\n",
       "      <td>0.00596</td>\n",
       "      <td>0.77460</td>\n",
       "      <td>36.82467</td>\n",
       "      <td>0.03725</td>\n",
       "      <td>7.46354</td>\n",
       "      <td>1.97297</td>\n",
       "      <td>4.0</td>\n",
       "      <td>2.0</td>\n",
       "    </tr>\n",
       "    <tr>\n",
       "      <th>5</th>\n",
       "      <td>258593.343169</td>\n",
       "      <td>2.664110e+06</td>\n",
       "      <td>11.94757</td>\n",
       "      <td>8.58189</td>\n",
       "      <td>530.0</td>\n",
       "      <td>4.31879</td>\n",
       "      <td>0.13477</td>\n",
       "      <td>1.07262</td>\n",
       "      <td>0.0</td>\n",
       "      <td>1.78328</td>\n",
       "      <td>...</td>\n",
       "      <td>45.05311</td>\n",
       "      <td>-0.00603</td>\n",
       "      <td>-0.07360</td>\n",
       "      <td>3.13050</td>\n",
       "      <td>483.79874</td>\n",
       "      <td>0.08314</td>\n",
       "      <td>6.73362</td>\n",
       "      <td>-4.02703</td>\n",
       "      <td>4.0</td>\n",
       "      <td>2.0</td>\n",
       "    </tr>\n",
       "    <tr>\n",
       "      <th>6</th>\n",
       "      <td>258683.343169</td>\n",
       "      <td>2.664110e+06</td>\n",
       "      <td>11.86491</td>\n",
       "      <td>8.58047</td>\n",
       "      <td>534.0</td>\n",
       "      <td>4.31569</td>\n",
       "      <td>0.13070</td>\n",
       "      <td>0.69362</td>\n",
       "      <td>0.0</td>\n",
       "      <td>0.05827</td>\n",
       "      <td>...</td>\n",
       "      <td>17.57359</td>\n",
       "      <td>0.00170</td>\n",
       "      <td>0.02702</td>\n",
       "      <td>1.34164</td>\n",
       "      <td>61.00688</td>\n",
       "      <td>0.06002</td>\n",
       "      <td>6.92963</td>\n",
       "      <td>1.56757</td>\n",
       "      <td>4.0</td>\n",
       "      <td>2.0</td>\n",
       "    </tr>\n",
       "    <tr>\n",
       "      <th>7</th>\n",
       "      <td>258773.343169</td>\n",
       "      <td>2.664110e+06</td>\n",
       "      <td>11.78236</td>\n",
       "      <td>8.58000</td>\n",
       "      <td>532.0</td>\n",
       "      <td>4.31266</td>\n",
       "      <td>0.12659</td>\n",
       "      <td>0.92361</td>\n",
       "      <td>0.0</td>\n",
       "      <td>0.97943</td>\n",
       "      <td>...</td>\n",
       "      <td>41.95362</td>\n",
       "      <td>-0.00221</td>\n",
       "      <td>-0.00000</td>\n",
       "      <td>1.41421</td>\n",
       "      <td>115.40007</td>\n",
       "      <td>0.06657</td>\n",
       "      <td>6.74746</td>\n",
       "      <td>-0.59459</td>\n",
       "      <td>4.0</td>\n",
       "      <td>2.0</td>\n",
       "    </tr>\n",
       "    <tr>\n",
       "      <th>8</th>\n",
       "      <td>258143.343169</td>\n",
       "      <td>2.664200e+06</td>\n",
       "      <td>12.32839</td>\n",
       "      <td>8.51334</td>\n",
       "      <td>535.0</td>\n",
       "      <td>4.32580</td>\n",
       "      <td>0.17574</td>\n",
       "      <td>1.00166</td>\n",
       "      <td>0.0</td>\n",
       "      <td>0.84130</td>\n",
       "      <td>...</td>\n",
       "      <td>187.56355</td>\n",
       "      <td>0.00227</td>\n",
       "      <td>-0.01712</td>\n",
       "      <td>1.48324</td>\n",
       "      <td>521.14337</td>\n",
       "      <td>0.06861</td>\n",
       "      <td>6.75585</td>\n",
       "      <td>0.35135</td>\n",
       "      <td>2.0</td>\n",
       "      <td>2.0</td>\n",
       "    </tr>\n",
       "    <tr>\n",
       "      <th>9</th>\n",
       "      <td>258233.343169</td>\n",
       "      <td>2.664200e+06</td>\n",
       "      <td>12.24500</td>\n",
       "      <td>8.50716</td>\n",
       "      <td>534.0</td>\n",
       "      <td>4.32241</td>\n",
       "      <td>0.17108</td>\n",
       "      <td>1.20406</td>\n",
       "      <td>0.0</td>\n",
       "      <td>0.33484</td>\n",
       "      <td>...</td>\n",
       "      <td>85.83942</td>\n",
       "      <td>0.00182</td>\n",
       "      <td>0.00387</td>\n",
       "      <td>1.89737</td>\n",
       "      <td>212.62872</td>\n",
       "      <td>0.09688</td>\n",
       "      <td>6.78160</td>\n",
       "      <td>2.32432</td>\n",
       "      <td>2.0</td>\n",
       "      <td>2.0</td>\n",
       "    </tr>\n",
       "  </tbody>\n",
       "</table>\n",
       "<p>10 rows × 22 columns</p>\n",
       "</div>"
      ],
      "text/plain": [
       "               x             y       DFF      DFR  Altitude   Draw_D  Drain_D  \\\n",
       "0  258143.343169  2.664110e+06  12.36240  8.60310     541.0  4.33529  0.16722   \n",
       "1  258233.343169  2.664110e+06  12.27924  8.59698     536.0  4.33185  0.16012   \n",
       "2  258323.343169  2.664110e+06  12.19617  8.59179     535.0  4.32848  0.14855   \n",
       "3  258413.343169  2.664110e+06  12.11320  8.58755     536.0  4.32518  0.14352   \n",
       "4  258503.343169  2.664110e+06  12.03034  8.58425     537.0  4.32195  0.13879   \n",
       "5  258593.343169  2.664110e+06  11.94757  8.58189     530.0  4.31879  0.13477   \n",
       "6  258683.343169  2.664110e+06  11.86491  8.58047     534.0  4.31569  0.13070   \n",
       "7  258773.343169  2.664110e+06  11.78236  8.58000     532.0  4.31266  0.12659   \n",
       "8  258143.343169  2.664200e+06  12.32839  8.51334     535.0  4.32580  0.17574   \n",
       "9  258233.343169  2.664200e+06  12.24500  8.50716     534.0  4.32241  0.17108   \n",
       "\n",
       "        LS  Lineam_D    MRVBF  ...        SCA  Profile_C   Plan_C      TRI  \\\n",
       "0  1.75086       0.0  0.16393  ...   17.57359   -0.00098 -0.00084  2.48998   \n",
       "1  0.47551       0.0  1.84461  ...   40.00359   -0.00244 -0.02385  1.00000   \n",
       "2  0.90309       0.0  0.91355  ...   36.81416    0.00071  0.00571  1.34164   \n",
       "3  1.06532       0.0  0.36503  ...   17.57359    0.00220  0.01238  1.84391   \n",
       "4  0.44645       0.0  0.06206  ...   22.16388    0.00089  0.00596  0.77460   \n",
       "5  1.07262       0.0  1.78328  ...   45.05311   -0.00603 -0.07360  3.13050   \n",
       "6  0.69362       0.0  0.05827  ...   17.57359    0.00170  0.02702  1.34164   \n",
       "7  0.92361       0.0  0.97943  ...   41.95362   -0.00221 -0.00000  1.41421   \n",
       "8  1.00166       0.0  0.84130  ...  187.56355    0.00227 -0.01712  1.48324   \n",
       "9  1.20406       0.0  0.33484  ...   85.83942    0.00182  0.00387  1.89737   \n",
       "\n",
       "         SPI    Slope      TWI      TPI  litho_recl  geomorph_R  \n",
       "0  256.40796  0.12944  6.25581  0.64865         2.0         2.0  \n",
       "1  141.52002  0.03725  7.06296 -1.02703         2.0         2.0  \n",
       "2  225.42549  0.06861  7.31022  0.54054         2.0         2.0  \n",
       "3  113.97736  0.08951  6.68820  2.24324         2.0         2.0  \n",
       "4   36.82467  0.03725  7.46354  1.97297         4.0         2.0  \n",
       "5  483.79874  0.08314  6.73362 -4.02703         4.0         2.0  \n",
       "6   61.00688  0.06002  6.92963  1.56757         4.0         2.0  \n",
       "7  115.40007  0.06657  6.74746 -0.59459         4.0         2.0  \n",
       "8  521.14337  0.06861  6.75585  0.35135         2.0         2.0  \n",
       "9  212.62872  0.09688  6.78160  2.32432         2.0         2.0  \n",
       "\n",
       "[10 rows x 22 columns]"
      ]
     },
     "execution_count": 39,
     "metadata": {},
     "output_type": "execute_result"
    }
   ],
   "source": [
    "unlabeled = pd.read_csv('Data_unlabeled.csv')\n",
    "\n",
    "x_unl = unlabeled.iloc[: , 2:].values\n",
    "x_coordinates = unlabeled.iloc[:,:2]\n",
    "unlabeled.head(10)"
   ]
  },
  {
   "cell_type": "code",
   "execution_count": 17,
   "metadata": {},
   "outputs": [
    {
     "name": "stdout",
     "output_type": "stream",
     "text": [
      "[ 1.24e+01  8.60e+00  5.41e+02  4.34e+00  1.67e-01  1.75e+00  0.00e+00\n",
      "  1.64e-01  2.06e-01  4.00e+00  1.76e+01 -9.80e-04 -8.40e-04  2.49e+00\n",
      "  2.56e+02  1.29e-01  6.26e+00  6.49e-01  2.00e+00  2.00e+00]\n"
     ]
    }
   ],
   "source": [
    "print(x_unl[0])"
   ]
  },
  {
   "cell_type": "code",
   "execution_count": 40,
   "metadata": {},
   "outputs": [
    {
     "name": "stdout",
     "output_type": "stream",
     "text": [
      "[1 3 1 1 1]\n"
     ]
    }
   ],
   "source": [
    "label = classifier.predict(x_unl)\n",
    "print(label[0:5])"
   ]
  },
  {
   "cell_type": "code",
   "execution_count": 30,
   "metadata": {},
   "outputs": [
    {
     "data": {
      "text/html": [
       "<div>\n",
       "<style scoped>\n",
       "    .dataframe tbody tr th:only-of-type {\n",
       "        vertical-align: middle;\n",
       "    }\n",
       "\n",
       "    .dataframe tbody tr th {\n",
       "        vertical-align: top;\n",
       "    }\n",
       "\n",
       "    .dataframe thead th {\n",
       "        text-align: right;\n",
       "    }\n",
       "</style>\n",
       "<table border=\"1\" class=\"dataframe\">\n",
       "  <thead>\n",
       "    <tr style=\"text-align: right;\">\n",
       "      <th></th>\n",
       "      <th>x</th>\n",
       "      <th>y</th>\n",
       "    </tr>\n",
       "  </thead>\n",
       "  <tbody>\n",
       "    <tr>\n",
       "      <th>0</th>\n",
       "      <td>258143.343169</td>\n",
       "      <td>2.664110e+06</td>\n",
       "    </tr>\n",
       "    <tr>\n",
       "      <th>1</th>\n",
       "      <td>258233.343169</td>\n",
       "      <td>2.664110e+06</td>\n",
       "    </tr>\n",
       "    <tr>\n",
       "      <th>2</th>\n",
       "      <td>258323.343169</td>\n",
       "      <td>2.664110e+06</td>\n",
       "    </tr>\n",
       "    <tr>\n",
       "      <th>3</th>\n",
       "      <td>258413.343169</td>\n",
       "      <td>2.664110e+06</td>\n",
       "    </tr>\n",
       "    <tr>\n",
       "      <th>4</th>\n",
       "      <td>258503.343169</td>\n",
       "      <td>2.664110e+06</td>\n",
       "    </tr>\n",
       "  </tbody>\n",
       "</table>\n",
       "</div>"
      ],
      "text/plain": [
       "               x             y\n",
       "0  258143.343169  2.664110e+06\n",
       "1  258233.343169  2.664110e+06\n",
       "2  258323.343169  2.664110e+06\n",
       "3  258413.343169  2.664110e+06\n",
       "4  258503.343169  2.664110e+06"
      ]
     },
     "execution_count": 30,
     "metadata": {},
     "output_type": "execute_result"
    }
   ],
   "source": [
    "x_coordinates.head()"
   ]
  },
  {
   "cell_type": "code",
   "execution_count": 21,
   "metadata": {},
   "outputs": [
    {
     "name": "stderr",
     "output_type": "stream",
     "text": [
      "C:\\Users\\Bihari\\Anaconda3\\lib\\site-packages\\ipykernel_launcher.py:1: SettingWithCopyWarning: \n",
      "A value is trying to be set on a copy of a slice from a DataFrame.\n",
      "Try using .loc[row_indexer,col_indexer] = value instead\n",
      "\n",
      "See the caveats in the documentation: http://pandas.pydata.org/pandas-docs/stable/indexing.html#indexing-view-versus-copy\n",
      "  \"\"\"Entry point for launching an IPython kernel.\n"
     ]
    },
    {
     "data": {
      "text/html": [
       "<div>\n",
       "<style scoped>\n",
       "    .dataframe tbody tr th:only-of-type {\n",
       "        vertical-align: middle;\n",
       "    }\n",
       "\n",
       "    .dataframe tbody tr th {\n",
       "        vertical-align: top;\n",
       "    }\n",
       "\n",
       "    .dataframe thead th {\n",
       "        text-align: right;\n",
       "    }\n",
       "</style>\n",
       "<table border=\"1\" class=\"dataframe\">\n",
       "  <thead>\n",
       "    <tr style=\"text-align: right;\">\n",
       "      <th></th>\n",
       "      <th>x</th>\n",
       "      <th>y</th>\n",
       "      <th>well_class</th>\n",
       "    </tr>\n",
       "  </thead>\n",
       "  <tbody>\n",
       "    <tr>\n",
       "      <th>0</th>\n",
       "      <td>258143.343169</td>\n",
       "      <td>2.664110e+06</td>\n",
       "      <td>1</td>\n",
       "    </tr>\n",
       "    <tr>\n",
       "      <th>1</th>\n",
       "      <td>258233.343169</td>\n",
       "      <td>2.664110e+06</td>\n",
       "      <td>2</td>\n",
       "    </tr>\n",
       "    <tr>\n",
       "      <th>2</th>\n",
       "      <td>258323.343169</td>\n",
       "      <td>2.664110e+06</td>\n",
       "      <td>2</td>\n",
       "    </tr>\n",
       "    <tr>\n",
       "      <th>3</th>\n",
       "      <td>258413.343169</td>\n",
       "      <td>2.664110e+06</td>\n",
       "      <td>2</td>\n",
       "    </tr>\n",
       "    <tr>\n",
       "      <th>4</th>\n",
       "      <td>258503.343169</td>\n",
       "      <td>2.664110e+06</td>\n",
       "      <td>4</td>\n",
       "    </tr>\n",
       "  </tbody>\n",
       "</table>\n",
       "</div>"
      ],
      "text/plain": [
       "               x             y  well_class\n",
       "0  258143.343169  2.664110e+06           1\n",
       "1  258233.343169  2.664110e+06           2\n",
       "2  258323.343169  2.664110e+06           2\n",
       "3  258413.343169  2.664110e+06           2\n",
       "4  258503.343169  2.664110e+06           4"
      ]
     },
     "execution_count": 21,
     "metadata": {},
     "output_type": "execute_result"
    }
   ],
   "source": [
    "x_coordinates['well_class'] = label\n",
    "\n",
    "x_coordinates.head()"
   ]
  },
  {
   "cell_type": "code",
   "execution_count": 34,
   "metadata": {},
   "outputs": [
    {
     "name": "stdout",
     "output_type": "stream",
     "text": [
      "1    1380047\n",
      "2     264291\n",
      "3     210320\n",
      "4     195965\n",
      "Name: well_class, dtype: int64\n"
     ]
    },
    {
     "data": {
      "text/plain": [
       "<matplotlib.axes._subplots.AxesSubplot at 0x28600600780>"
      ]
     },
     "execution_count": 34,
     "metadata": {},
     "output_type": "execute_result"
    },
    {
     "data": {
      "image/png": "[encoded data removed]",
      "text/plain": [
       "<Figure size 432x288 with 1 Axes>"
      ]
     },
     "metadata": {
      "needs_background": "light"
     },
     "output_type": "display_data"
    }
   ],
   "source": [
    "print(pd.value_counts(x_coordinates['well_class']))\n",
    "pd.value_counts(x_coordinates['well_class']).plot.bar()"
   ]
  },
  {
   "cell_type": "code",
   "execution_count": 32,
   "metadata": {},
   "outputs": [],
   "source": [
    "#exporting the data\n",
    "x_coordinates.to_csv('prediction.csv')"
   ]
  },
  {
   "cell_type": "code",
   "execution_count": null,
   "metadata": {},
   "outputs": [],
   "source": []
  },
  {
   "cell_type": "markdown",
   "metadata": {},
   "source": [
    "# Grid search "
   ]
  },
  {
   "cell_type": "code",
   "execution_count": null,
   "metadata": {},
   "outputs": [],
   "source": [
    "from sklearn.model_selection import GridSearchCV\n",
    "\n",
    "est = list(np.arange(1,100,5))\n",
    "cri = ['gini','entrophy']\n",
    "mss = list(np.arange(2,100,5))\n",
    "md = list(np.arange(1,50,5))\n",
    "msl = list(np.arange(1,30,5))\n",
    "\n",
    "parameters = [{'n_estimators':est, 'criterion':cri , 'min_samples_split':mss, 'max_depth':md, 'min_samples_leaf':msl}]\n",
    "#parameters = [{'n_estimators': list(np.arange(1,100,10)), 'criterion': ['gini','entropy'],'max_depth': list(np.arange(1,))}]\n",
    "grid_search = GridSearchCV(estimator = classifier,\n",
    "                           param_grid = parameters,\n",
    "                           scoring = 'accuracy',\n",
    "                           cv = 10,\n",
    "                           n_jobs = -1)\n",
    "grid_search = grid_search.fit(x_train, y_train)\n",
    "best_accuracy = grid_search.best_score_\n",
    "best_parameters = grid_search.best_params_\n",
    "print(\"Best Accuracy: {:.2f} %\".format(best_accuracy*100))\n",
    "print(\"Best Parameters:\", best_parameters)"
   ]
  }
 ],
 "metadata": {
  "colab": {
   "authorship_tag": "ABX9TyNxDRfLvKVBN9HjXcmlURF3",
   "collapsed_sections": [],
   "name": "data_preprocessing_tools.ipynb",
   "provenance": [],
   "toc_visible": true
  },
  "kernelspec": {
   "display_name": "Python 3",
   "language": "python",
   "name": "python3"
  },
  "language_info": {
   "codemirror_mode": {
    "name": "ipython",
    "version": 3
   },
   "file_extension": ".py",
   "mimetype": "text/x-python",
   "name": "python",
   "nbconvert_exporter": "python",
   "pygments_lexer": "ipython3",
   "version": "3.7.3"
  }
 },
 "nbformat": 4,
 "nbformat_minor": 1
}
